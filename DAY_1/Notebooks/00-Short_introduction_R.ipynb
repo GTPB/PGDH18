{
 "cells": [
  {
   "cell_type": "markdown",
   "metadata": {},
   "source": [
    "\n",
    "# A short introduction to *R*   \n",
    "###  by M. Beaumont,  L. Chikhi, and V. Sousa \n",
    "\n",
    "\n",
    "**Note**: All the *R* code as well as the comments of this tutorial can be downloaded [here](../code/R/Script_Intro_R.r)\n",
    "\n",
    "## Using the command line\n",
    "\n",
    "The first thing to know is perhaps how to quit. So, if you have already started *R* but wonder how to get out \n",
    "you just need to type *q()* at anytime.  \n",
    "It is also rather important to start, so here is one way to do it in Windows environments (assuming that you have already installed R ...)  \n",
    "First, make a copy of the shortcut currently on the desktop and place this in the folder with the data you wish to analyse.  \n",
    "Second, right-click on the new shortcut, click on the ‘Properties’ tab and change the ‘Start in:’ field to point to the folder with the data you want to analyse.  \n",
    "Instead of typing it you can click on the ‘General’ tab and simply copy the \"Location path\" and paste it in between the quotes in the ‘Start in:’ field.  \n",
    "Now we're ready : you only need to double-click on the new shortcut to start up R.\n",
    "\n",
    "The default working folder (for this shortcut) will be the folder with the data.  \n",
    "The \"#\" symbol allows you to put comments that are ignored by R.  \n",
    "This is very important if you want to write comments to code you write in such a way that you can just copy and paste large bits of text.  \n",
    "Everything after this symbol is ignored until the next line.  \n",
    "To be sure you are in the correct directory use the getwd() function get working directory.\n"
   ]
  },
  {
   "cell_type": "code",
   "execution_count": 1,
   "metadata": {},
   "outputs": [
    {
     "data": {
      "text/html": [
       "'/home/willy/github_projects/PGDH/Notebooks'"
      ],
      "text/latex": [
       "'/home/willy/github\\_projects/PGDH/Notebooks'"
      ],
      "text/markdown": [
       "'/home/willy/github_projects/PGDH/Notebooks'"
      ],
      "text/plain": [
       "[1] \"/home/willy/github_projects/PGDH/Notebooks\""
      ]
     },
     "metadata": {},
     "output_type": "display_data"
    }
   ],
   "source": [
    "getwd()"
   ]
  },
  {
   "cell_type": "markdown",
   "metadata": {},
   "source": [
    "The text below can thus be copied directly into R and should work straightforwardly\n",
    "\"<-\" is an assignment. \n",
    "\n",
    "```R\n",
    "x <- c(1,2,3,4,5,6)\n",
    "```\n",
    "This creates a vector x containing the numbers 1, 2, 3, 4, 5 and 6.\n",
    "\n",
    "Whenever you have round parenthesis \"()\" it is a **function**.\n",
    "\n",
    "Whenever we have square \"\\[ \\]\" we want to look at an element in a **vector** or **matrix**."
   ]
  },
  {
   "cell_type": "code",
   "execution_count": 2,
   "metadata": {},
   "outputs": [],
   "source": [
    "x <- c(1,2,3,4,5,6)"
   ]
  },
  {
   "cell_type": "code",
   "execution_count": 3,
   "metadata": {},
   "outputs": [
    {
     "data": {
      "text/html": [
       "2"
      ],
      "text/latex": [
       "2"
      ],
      "text/markdown": [
       "2"
      ],
      "text/plain": [
       "[1] 2"
      ]
     },
     "metadata": {},
     "output_type": "display_data"
    }
   ],
   "source": [
    "x[2]"
   ]
  },
  {
   "cell_type": "markdown",
   "metadata": {},
   "source": [
    "*c()* is a function that puts data together. \n",
    "\n",
    "*c* stands for \"combine\" or \"concatenate\".\n",
    "\n",
    "```R\n",
    "y <- c(1:6) \n",
    "```\n",
    "means the same but is much shorter to write"
   ]
  },
  {
   "cell_type": "code",
   "execution_count": 4,
   "metadata": {},
   "outputs": [],
   "source": [
    "y <- c(1:6)"
   ]
  },
  {
   "cell_type": "markdown",
   "metadata": {},
   "source": [
    "with the \"<-\" symbol we have assigned values to *x* and *y*.  \n",
    "*x* and *y* have been stored in memory as long as *R* is running,  \n",
    "If we want to see what x and y are we only need to type their names"
   ]
  },
  {
   "cell_type": "code",
   "execution_count": 5,
   "metadata": {},
   "outputs": [
    {
     "data": {
      "text/html": [
       "<ol class=list-inline>\n",
       "\t<li>1</li>\n",
       "\t<li>2</li>\n",
       "\t<li>3</li>\n",
       "\t<li>4</li>\n",
       "\t<li>5</li>\n",
       "\t<li>6</li>\n",
       "</ol>\n"
      ],
      "text/latex": [
       "\\begin{enumerate*}\n",
       "\\item 1\n",
       "\\item 2\n",
       "\\item 3\n",
       "\\item 4\n",
       "\\item 5\n",
       "\\item 6\n",
       "\\end{enumerate*}\n"
      ],
      "text/markdown": [
       "1. 1\n",
       "2. 2\n",
       "3. 3\n",
       "4. 4\n",
       "5. 5\n",
       "6. 6\n",
       "\n",
       "\n"
      ],
      "text/plain": [
       "[1] 1 2 3 4 5 6"
      ]
     },
     "metadata": {},
     "output_type": "display_data"
    },
    {
     "data": {
      "text/html": [
       "<ol class=list-inline>\n",
       "\t<li>1</li>\n",
       "\t<li>2</li>\n",
       "\t<li>3</li>\n",
       "\t<li>4</li>\n",
       "\t<li>5</li>\n",
       "\t<li>6</li>\n",
       "</ol>\n"
      ],
      "text/latex": [
       "\\begin{enumerate*}\n",
       "\\item 1\n",
       "\\item 2\n",
       "\\item 3\n",
       "\\item 4\n",
       "\\item 5\n",
       "\\item 6\n",
       "\\end{enumerate*}\n"
      ],
      "text/markdown": [
       "1. 1\n",
       "2. 2\n",
       "3. 3\n",
       "4. 4\n",
       "5. 5\n",
       "6. 6\n",
       "\n",
       "\n"
      ],
      "text/plain": [
       "[1] 1 2 3 4 5 6"
      ]
     },
     "metadata": {},
     "output_type": "display_data"
    }
   ],
   "source": [
    "x\n",
    "y"
   ]
  },
  {
   "cell_type": "markdown",
   "metadata": {},
   "source": [
    "You may want to know which \"objects\" (as *x* and *y*) \n",
    "are currently stored in the memory.\n",
    "You only need to type *ls()* "
   ]
  },
  {
   "cell_type": "code",
   "execution_count": 6,
   "metadata": {},
   "outputs": [
    {
     "data": {
      "text/html": [
       "<ol class=list-inline>\n",
       "\t<li>'x'</li>\n",
       "\t<li>'y'</li>\n",
       "</ol>\n"
      ],
      "text/latex": [
       "\\begin{enumerate*}\n",
       "\\item 'x'\n",
       "\\item 'y'\n",
       "\\end{enumerate*}\n"
      ],
      "text/markdown": [
       "1. 'x'\n",
       "2. 'y'\n",
       "\n",
       "\n"
      ],
      "text/plain": [
       "[1] \"x\" \"y\""
      ]
     },
     "metadata": {},
     "output_type": "display_data"
    }
   ],
   "source": [
    "ls()"
   ]
  },
  {
   "cell_type": "markdown",
   "metadata": {},
   "source": [
    "if you just want to know the value of a particular element of x you \n",
    "need to type its position using square brackets \"\\[ \\]\".\n",
    "\n"
   ]
  },
  {
   "cell_type": "code",
   "execution_count": 7,
   "metadata": {},
   "outputs": [
    {
     "data": {
      "text/html": [
       "2"
      ],
      "text/latex": [
       "2"
      ],
      "text/markdown": [
       "2"
      ],
      "text/plain": [
       "[1] 2"
      ]
     },
     "metadata": {},
     "output_type": "display_data"
    },
    {
     "data": {
      "text/html": [
       "<ol class=list-inline>\n",
       "\t<li>2</li>\n",
       "\t<li>3</li>\n",
       "\t<li>4</li>\n",
       "\t<li>5</li>\n",
       "</ol>\n"
      ],
      "text/latex": [
       "\\begin{enumerate*}\n",
       "\\item 2\n",
       "\\item 3\n",
       "\\item 4\n",
       "\\item 5\n",
       "\\end{enumerate*}\n"
      ],
      "text/markdown": [
       "1. 2\n",
       "2. 3\n",
       "3. 4\n",
       "4. 5\n",
       "\n",
       "\n"
      ],
      "text/plain": [
       "[1] 2 3 4 5"
      ]
     },
     "metadata": {},
     "output_type": "display_data"
    }
   ],
   "source": [
    "x[2]     # gives you the second element of x\n",
    "x[2:5]   # gives you elements 2 to 5"
   ]
  },
  {
   "cell_type": "markdown",
   "metadata": {},
   "source": [
    "you can also create a \"composite\" vector"
   ]
  },
  {
   "cell_type": "code",
   "execution_count": 8,
   "metadata": {},
   "outputs": [
    {
     "data": {
      "text/html": [
       "<ol class=list-inline>\n",
       "\t<li>1</li>\n",
       "\t<li>2</li>\n",
       "\t<li>3</li>\n",
       "\t<li>4</li>\n",
       "\t<li>5</li>\n",
       "\t<li>6</li>\n",
       "\t<li>10</li>\n",
       "\t<li>11</li>\n",
       "\t<li>12</li>\n",
       "\t<li>13</li>\n",
       "\t<li>14</li>\n",
       "\t<li>15</li>\n",
       "\t<li>16</li>\n",
       "\t<li>17</li>\n",
       "\t<li>18</li>\n",
       "\t<li>19</li>\n",
       "\t<li>20</li>\n",
       "</ol>\n"
      ],
      "text/latex": [
       "\\begin{enumerate*}\n",
       "\\item 1\n",
       "\\item 2\n",
       "\\item 3\n",
       "\\item 4\n",
       "\\item 5\n",
       "\\item 6\n",
       "\\item 10\n",
       "\\item 11\n",
       "\\item 12\n",
       "\\item 13\n",
       "\\item 14\n",
       "\\item 15\n",
       "\\item 16\n",
       "\\item 17\n",
       "\\item 18\n",
       "\\item 19\n",
       "\\item 20\n",
       "\\end{enumerate*}\n"
      ],
      "text/markdown": [
       "1. 1\n",
       "2. 2\n",
       "3. 3\n",
       "4. 4\n",
       "5. 5\n",
       "6. 6\n",
       "7. 10\n",
       "8. 11\n",
       "9. 12\n",
       "10. 13\n",
       "11. 14\n",
       "12. 15\n",
       "13. 16\n",
       "14. 17\n",
       "15. 18\n",
       "16. 19\n",
       "17. 20\n",
       "\n",
       "\n"
      ],
      "text/plain": [
       " [1]  1  2  3  4  5  6 10 11 12 13 14 15 16 17 18 19 20"
      ]
     },
     "metadata": {},
     "output_type": "display_data"
    }
   ],
   "source": [
    "z <- c(1:6, 10:20)\n",
    "z"
   ]
  },
  {
   "cell_type": "markdown",
   "metadata": {},
   "source": [
    "or go the other way around"
   ]
  },
  {
   "cell_type": "code",
   "execution_count": 9,
   "metadata": {},
   "outputs": [
    {
     "data": {
      "text/html": [
       "<ol class=list-inline>\n",
       "\t<li>10</li>\n",
       "\t<li>9</li>\n",
       "\t<li>8</li>\n",
       "\t<li>7</li>\n",
       "\t<li>6</li>\n",
       "\t<li>5</li>\n",
       "\t<li>4</li>\n",
       "\t<li>3</li>\n",
       "\t<li>2</li>\n",
       "\t<li>1</li>\n",
       "</ol>\n"
      ],
      "text/latex": [
       "\\begin{enumerate*}\n",
       "\\item 10\n",
       "\\item 9\n",
       "\\item 8\n",
       "\\item 7\n",
       "\\item 6\n",
       "\\item 5\n",
       "\\item 4\n",
       "\\item 3\n",
       "\\item 2\n",
       "\\item 1\n",
       "\\end{enumerate*}\n"
      ],
      "text/markdown": [
       "1. 10\n",
       "2. 9\n",
       "3. 8\n",
       "4. 7\n",
       "5. 6\n",
       "6. 5\n",
       "7. 4\n",
       "8. 3\n",
       "9. 2\n",
       "10. 1\n",
       "\n",
       "\n"
      ],
      "text/plain": [
       " [1] 10  9  8  7  6  5  4  3  2  1"
      ]
     },
     "metadata": {},
     "output_type": "display_data"
    }
   ],
   "source": [
    "w <- c(10:1)\n",
    "w"
   ]
  },
  {
   "cell_type": "markdown",
   "metadata": {},
   "source": [
    "In all the previous cases it was abvious that the increment was one.  \n",
    "You can also define another increment using the seq function:"
   ]
  },
  {
   "cell_type": "code",
   "execution_count": 10,
   "metadata": {},
   "outputs": [
    {
     "data": {
      "text/html": [
       "<ol class=list-inline>\n",
       "\t<li>1</li>\n",
       "\t<li>2</li>\n",
       "\t<li>3</li>\n",
       "\t<li>4</li>\n",
       "\t<li>5</li>\n",
       "\t<li>6</li>\n",
       "\t<li>7</li>\n",
       "\t<li>8</li>\n",
       "\t<li>9</li>\n",
       "\t<li>10</li>\n",
       "</ol>\n"
      ],
      "text/latex": [
       "\\begin{enumerate*}\n",
       "\\item 1\n",
       "\\item 2\n",
       "\\item 3\n",
       "\\item 4\n",
       "\\item 5\n",
       "\\item 6\n",
       "\\item 7\n",
       "\\item 8\n",
       "\\item 9\n",
       "\\item 10\n",
       "\\end{enumerate*}\n"
      ],
      "text/markdown": [
       "1. 1\n",
       "2. 2\n",
       "3. 3\n",
       "4. 4\n",
       "5. 5\n",
       "6. 6\n",
       "7. 7\n",
       "8. 8\n",
       "9. 9\n",
       "10. 10\n",
       "\n",
       "\n"
      ],
      "text/plain": [
       " [1]  1  2  3  4  5  6  7  8  9 10"
      ]
     },
     "metadata": {},
     "output_type": "display_data"
    },
    {
     "data": {
      "text/html": [
       "<ol class=list-inline>\n",
       "\t<li>1</li>\n",
       "\t<li>3</li>\n",
       "\t<li>5</li>\n",
       "\t<li>7</li>\n",
       "\t<li>9</li>\n",
       "</ol>\n"
      ],
      "text/latex": [
       "\\begin{enumerate*}\n",
       "\\item 1\n",
       "\\item 3\n",
       "\\item 5\n",
       "\\item 7\n",
       "\\item 9\n",
       "\\end{enumerate*}\n"
      ],
      "text/markdown": [
       "1. 1\n",
       "2. 3\n",
       "3. 5\n",
       "4. 7\n",
       "5. 9\n",
       "\n",
       "\n"
      ],
      "text/plain": [
       "[1] 1 3 5 7 9"
      ]
     },
     "metadata": {},
     "output_type": "display_data"
    }
   ],
   "source": [
    "w <- seq(1,10)  # is the same as c(1:10) or 1:10\n",
    "w\n",
    "w <- seq(1,10, by=2)  # increments elements by 2\n",
    "w"
   ]
  },
  {
   "cell_type": "markdown",
   "metadata": {},
   "source": [
    "The *seq* function also allows you to get a sequence in \"inverse\" order:"
   ]
  },
  {
   "cell_type": "code",
   "execution_count": 11,
   "metadata": {},
   "outputs": [
    {
     "data": {
      "text/html": [
       "<ol class=list-inline>\n",
       "\t<li>10</li>\n",
       "\t<li>9</li>\n",
       "\t<li>8</li>\n",
       "\t<li>7</li>\n",
       "\t<li>6</li>\n",
       "\t<li>5</li>\n",
       "\t<li>4</li>\n",
       "\t<li>3</li>\n",
       "\t<li>2</li>\n",
       "\t<li>1</li>\n",
       "</ol>\n"
      ],
      "text/latex": [
       "\\begin{enumerate*}\n",
       "\\item 10\n",
       "\\item 9\n",
       "\\item 8\n",
       "\\item 7\n",
       "\\item 6\n",
       "\\item 5\n",
       "\\item 4\n",
       "\\item 3\n",
       "\\item 2\n",
       "\\item 1\n",
       "\\end{enumerate*}\n"
      ],
      "text/markdown": [
       "1. 10\n",
       "2. 9\n",
       "3. 8\n",
       "4. 7\n",
       "5. 6\n",
       "6. 5\n",
       "7. 4\n",
       "8. 3\n",
       "9. 2\n",
       "10. 1\n",
       "\n",
       "\n"
      ],
      "text/plain": [
       " [1] 10  9  8  7  6  5  4  3  2  1"
      ]
     },
     "metadata": {},
     "output_type": "display_data"
    }
   ],
   "source": [
    "seq(10,1)"
   ]
  },
  {
   "cell_type": "markdown",
   "metadata": {},
   "source": [
    "And you can also change the increment"
   ]
  },
  {
   "cell_type": "code",
   "execution_count": 1,
   "metadata": {},
   "outputs": [],
   "source": [
    "seq(10,1, by=2)"
   ]
  },
  {
   "cell_type": "markdown",
   "metadata": {},
   "source": [
    "of course this did not work:  \n",
    "you have to change the increment from 2 to -2 ..."
   ]
  },
  {
   "cell_type": "code",
   "execution_count": 12,
   "metadata": {},
   "outputs": [
    {
     "data": {
      "text/html": [
       "<ol class=list-inline>\n",
       "\t<li>10</li>\n",
       "\t<li>8</li>\n",
       "\t<li>6</li>\n",
       "\t<li>4</li>\n",
       "\t<li>2</li>\n",
       "</ol>\n"
      ],
      "text/latex": [
       "\\begin{enumerate*}\n",
       "\\item 10\n",
       "\\item 8\n",
       "\\item 6\n",
       "\\item 4\n",
       "\\item 2\n",
       "\\end{enumerate*}\n"
      ],
      "text/markdown": [
       "1. 10\n",
       "2. 8\n",
       "3. 6\n",
       "4. 4\n",
       "5. 2\n",
       "\n",
       "\n"
      ],
      "text/plain": [
       "[1] 10  8  6  4  2"
      ]
     },
     "metadata": {},
     "output_type": "display_data"
    }
   ],
   "source": [
    "seq(10,1, by=-2)"
   ]
  },
  {
   "cell_type": "markdown",
   "metadata": {},
   "source": [
    "You can note that \n",
    "\n",
    "```R\n",
    "seq(1,10, by=2) \n",
    "```\n",
    "is NOT the inverse of \n",
    "\n",
    "```R\n",
    "seq(10,1, by=-2).\n",
    "```\n",
    "\n",
    "While working with *R* you create objects such as the vectors we created above.  \n",
    "You can see a list of these objects by using the following functions:"
   ]
  },
  {
   "cell_type": "code",
   "execution_count": 14,
   "metadata": {},
   "outputs": [
    {
     "data": {
      "text/html": [
       "<ol class=list-inline>\n",
       "\t<li>'w'</li>\n",
       "\t<li>'x'</li>\n",
       "\t<li>'y'</li>\n",
       "\t<li>'z'</li>\n",
       "</ol>\n"
      ],
      "text/latex": [
       "\\begin{enumerate*}\n",
       "\\item 'w'\n",
       "\\item 'x'\n",
       "\\item 'y'\n",
       "\\item 'z'\n",
       "\\end{enumerate*}\n"
      ],
      "text/markdown": [
       "1. 'w'\n",
       "2. 'x'\n",
       "3. 'y'\n",
       "4. 'z'\n",
       "\n",
       "\n"
      ],
      "text/plain": [
       "[1] \"w\" \"x\" \"y\" \"z\""
      ]
     },
     "metadata": {},
     "output_type": "display_data"
    },
    {
     "data": {
      "text/html": [
       "<ol class=list-inline>\n",
       "\t<li>'w'</li>\n",
       "\t<li>'x'</li>\n",
       "\t<li>'y'</li>\n",
       "\t<li>'z'</li>\n",
       "</ol>\n"
      ],
      "text/latex": [
       "\\begin{enumerate*}\n",
       "\\item 'w'\n",
       "\\item 'x'\n",
       "\\item 'y'\n",
       "\\item 'z'\n",
       "\\end{enumerate*}\n"
      ],
      "text/markdown": [
       "1. 'w'\n",
       "2. 'x'\n",
       "3. 'y'\n",
       "4. 'z'\n",
       "\n",
       "\n"
      ],
      "text/plain": [
       "[1] \"w\" \"x\" \"y\" \"z\""
      ]
     },
     "metadata": {},
     "output_type": "display_data"
    }
   ],
   "source": [
    "ls()\n",
    "objects()"
   ]
  },
  {
   "cell_type": "markdown",
   "metadata": {},
   "source": [
    "Note that no argument has been given to these functions, just as for *q()*  \n",
    "BEWARE: these functions are very important.  \n",
    "New objects will ERASE previous objects with the same name without warning !!\n",
    "\n",
    "Let us create a vector called \"ex\" by simply copying *x* into it"
   ]
  },
  {
   "cell_type": "code",
   "execution_count": 15,
   "metadata": {},
   "outputs": [
    {
     "data": {
      "text/html": [
       "<ol class=list-inline>\n",
       "\t<li>1</li>\n",
       "\t<li>2</li>\n",
       "\t<li>3</li>\n",
       "\t<li>4</li>\n",
       "\t<li>5</li>\n",
       "\t<li>6</li>\n",
       "</ol>\n"
      ],
      "text/latex": [
       "\\begin{enumerate*}\n",
       "\\item 1\n",
       "\\item 2\n",
       "\\item 3\n",
       "\\item 4\n",
       "\\item 5\n",
       "\\item 6\n",
       "\\end{enumerate*}\n"
      ],
      "text/markdown": [
       "1. 1\n",
       "2. 2\n",
       "3. 3\n",
       "4. 4\n",
       "5. 5\n",
       "6. 6\n",
       "\n",
       "\n"
      ],
      "text/plain": [
       "[1] 1 2 3 4 5 6"
      ]
     },
     "metadata": {},
     "output_type": "display_data"
    },
    {
     "data": {
      "text/html": [
       "<ol class=list-inline>\n",
       "\t<li>1</li>\n",
       "\t<li>2</li>\n",
       "\t<li>3</li>\n",
       "\t<li>4</li>\n",
       "\t<li>5</li>\n",
       "\t<li>6</li>\n",
       "</ol>\n"
      ],
      "text/latex": [
       "\\begin{enumerate*}\n",
       "\\item 1\n",
       "\\item 2\n",
       "\\item 3\n",
       "\\item 4\n",
       "\\item 5\n",
       "\\item 6\n",
       "\\end{enumerate*}\n"
      ],
      "text/markdown": [
       "1. 1\n",
       "2. 2\n",
       "3. 3\n",
       "4. 4\n",
       "5. 5\n",
       "6. 6\n",
       "\n",
       "\n"
      ],
      "text/plain": [
       "[1] 1 2 3 4 5 6"
      ]
     },
     "metadata": {},
     "output_type": "display_data"
    }
   ],
   "source": [
    "ex <- x ; x ; ex"
   ]
  },
  {
   "cell_type": "markdown",
   "metadata": {},
   "source": [
    "Note that you can type a series of short commands using \";\"  \n",
    "If the *ls()* function produces too many objects you may want to look for a subset. This can be done using the \"pattern\" option.  \n",
    "The following command lists the objects whose name contains *x*."
   ]
  },
  {
   "cell_type": "code",
   "execution_count": 16,
   "metadata": {},
   "outputs": [
    {
     "data": {
      "text/html": [
       "<ol class=list-inline>\n",
       "\t<li>'ex'</li>\n",
       "\t<li>'x'</li>\n",
       "</ol>\n"
      ],
      "text/latex": [
       "\\begin{enumerate*}\n",
       "\\item 'ex'\n",
       "\\item 'x'\n",
       "\\end{enumerate*}\n"
      ],
      "text/markdown": [
       "1. 'ex'\n",
       "2. 'x'\n",
       "\n",
       "\n"
      ],
      "text/plain": [
       "[1] \"ex\" \"x\" "
      ]
     },
     "metadata": {},
     "output_type": "display_data"
    }
   ],
   "source": [
    "objects(pattern=\"x\")"
   ]
  },
  {
   "cell_type": "markdown",
   "metadata": {},
   "source": [
    "It is important to realise that these objects have been created and stored  \n",
    "But have NOT BEEN SAVED YET.  \n",
    "If *R* crashes *now* nothing will be saved.  \n",
    "When you decide to leave *R* - by typing \"q()\" - you are asked whether you you want  \n",
    "to save the \"Workspace Image\".  \n",
    "If you say \"yes\" *R* will create two files called\n",
    "\t* \".RData\" storing all the objects and\n",
    "\t* \".Rhistory\" storing the last commands you typed in *R* before quitting\n",
    "Vectors are just one type of objects in *R*  \n",
    "other types have the following names:  \n",
    "*matrix*, *array*, *list*, *data.frame*, *factor*, *ts* (for time series)\n",
    "\n",
    "In this introduction we only focus on vectors and matrices. If you decide to use *R* you will have the opportunity to discover the other objects. Let us just note that arrays are matrices with *n* dimensions.\n",
    "\n",
    "\n",
    "## A bit of input and output\n",
    "\n",
    "As we often have our data in files created outside *R* it is important to be able to input your data into R.  \n",
    "There are different ways to do it but we will focus on the *scan()* function. This will allow us to work with simple ASCII files.  \n",
    "Note that the *read.table* function is also very practical and allows to read text files and put them in *data.frame* objects. We will not use this function but we strongly advise you to explore it...\n",
    "\n",
    "Another important point is that we have seen how to type commands into *R* using the\n",
    "*R* command window. You can notice that if you use the \"up\" and \"down\" arrows when you are in the command window, you will see the previous commands.  \n",
    "While this is very practical, this can be quite cumbersome when commands start to be more complicated or longer. Also you may want to use an old command. In practice, the solution we prefer is to have a text editor open where you type the required commands. You then execute them in *R* by simply copying them. \n",
    "\n",
    "In fact this is the reason why we use [this](../code/R/Script_Intro_R.r) text file: all comments have been \n",
    "put after the \"#\" character so that you can copy as many lines of text as you wish\n",
    "and it should work in *R*, as we noted above.\n",
    "To read from a file called \"datafile_nb.txt\" which contains only a single column\n",
    "of numbers: "
   ]
  },
  {
   "cell_type": "code",
   "execution_count": 17,
   "metadata": {},
   "outputs": [],
   "source": [
    "d1 <- scan(\"../data/Short_introduction_R/datafile_nb.txt\")"
   ]
  },
  {
   "cell_type": "markdown",
   "metadata": {},
   "source": [
    "This reads the contents of the file and assigns it as a vector of numbers to the variable *d1*.  \n",
    "You can inspect these values by typing *d1*, as we did before for the vectors we created."
   ]
  },
  {
   "cell_type": "code",
   "execution_count": 18,
   "metadata": {},
   "outputs": [
    {
     "data": {
      "text/html": [
       "<ol class=list-inline>\n",
       "\t<li>1</li>\n",
       "\t<li>2</li>\n",
       "\t<li>3</li>\n",
       "\t<li>4</li>\n",
       "\t<li>5</li>\n",
       "\t<li>6</li>\n",
       "\t<li>7</li>\n",
       "\t<li>8</li>\n",
       "\t<li>9</li>\n",
       "\t<li>10</li>\n",
       "\t<li>11</li>\n",
       "\t<li>12</li>\n",
       "\t<li>13</li>\n",
       "\t<li>14</li>\n",
       "\t<li>15</li>\n",
       "\t<li>16</li>\n",
       "\t<li>17</li>\n",
       "\t<li>18</li>\n",
       "\t<li>19</li>\n",
       "\t<li>20</li>\n",
       "\t<li>21</li>\n",
       "\t<li>22</li>\n",
       "\t<li>23</li>\n",
       "\t<li>24</li>\n",
       "\t<li>25</li>\n",
       "\t<li>26</li>\n",
       "\t<li>27</li>\n",
       "\t<li>28</li>\n",
       "\t<li>29</li>\n",
       "\t<li>30</li>\n",
       "\t<li>31</li>\n",
       "\t<li>32</li>\n",
       "\t<li>33</li>\n",
       "\t<li>34</li>\n",
       "\t<li>35</li>\n",
       "\t<li>36</li>\n",
       "\t<li>37</li>\n",
       "\t<li>38</li>\n",
       "\t<li>39</li>\n",
       "\t<li>40</li>\n",
       "\t<li>41</li>\n",
       "\t<li>42</li>\n",
       "\t<li>43</li>\n",
       "\t<li>44</li>\n",
       "\t<li>45</li>\n",
       "\t<li>46</li>\n",
       "\t<li>47</li>\n",
       "\t<li>48</li>\n",
       "\t<li>49</li>\n",
       "\t<li>50</li>\n",
       "</ol>\n"
      ],
      "text/latex": [
       "\\begin{enumerate*}\n",
       "\\item 1\n",
       "\\item 2\n",
       "\\item 3\n",
       "\\item 4\n",
       "\\item 5\n",
       "\\item 6\n",
       "\\item 7\n",
       "\\item 8\n",
       "\\item 9\n",
       "\\item 10\n",
       "\\item 11\n",
       "\\item 12\n",
       "\\item 13\n",
       "\\item 14\n",
       "\\item 15\n",
       "\\item 16\n",
       "\\item 17\n",
       "\\item 18\n",
       "\\item 19\n",
       "\\item 20\n",
       "\\item 21\n",
       "\\item 22\n",
       "\\item 23\n",
       "\\item 24\n",
       "\\item 25\n",
       "\\item 26\n",
       "\\item 27\n",
       "\\item 28\n",
       "\\item 29\n",
       "\\item 30\n",
       "\\item 31\n",
       "\\item 32\n",
       "\\item 33\n",
       "\\item 34\n",
       "\\item 35\n",
       "\\item 36\n",
       "\\item 37\n",
       "\\item 38\n",
       "\\item 39\n",
       "\\item 40\n",
       "\\item 41\n",
       "\\item 42\n",
       "\\item 43\n",
       "\\item 44\n",
       "\\item 45\n",
       "\\item 46\n",
       "\\item 47\n",
       "\\item 48\n",
       "\\item 49\n",
       "\\item 50\n",
       "\\end{enumerate*}\n"
      ],
      "text/markdown": [
       "1. 1\n",
       "2. 2\n",
       "3. 3\n",
       "4. 4\n",
       "5. 5\n",
       "6. 6\n",
       "7. 7\n",
       "8. 8\n",
       "9. 9\n",
       "10. 10\n",
       "11. 11\n",
       "12. 12\n",
       "13. 13\n",
       "14. 14\n",
       "15. 15\n",
       "16. 16\n",
       "17. 17\n",
       "18. 18\n",
       "19. 19\n",
       "20. 20\n",
       "21. 21\n",
       "22. 22\n",
       "23. 23\n",
       "24. 24\n",
       "25. 25\n",
       "26. 26\n",
       "27. 27\n",
       "28. 28\n",
       "29. 29\n",
       "30. 30\n",
       "31. 31\n",
       "32. 32\n",
       "33. 33\n",
       "34. 34\n",
       "35. 35\n",
       "36. 36\n",
       "37. 37\n",
       "38. 38\n",
       "39. 39\n",
       "40. 40\n",
       "41. 41\n",
       "42. 42\n",
       "43. 43\n",
       "44. 44\n",
       "45. 45\n",
       "46. 46\n",
       "47. 47\n",
       "48. 48\n",
       "49. 49\n",
       "50. 50\n",
       "\n",
       "\n"
      ],
      "text/plain": [
       " [1]  1  2  3  4  5  6  7  8  9 10 11 12 13 14 15 16 17 18 19 20 21 22 23 24 25\n",
       "[26] 26 27 28 29 30 31 32 33 34 35 36 37 38 39 40 41 42 43 44 45 46 47 48 49 50"
      ]
     },
     "metadata": {},
     "output_type": "display_data"
    }
   ],
   "source": [
    "d1"
   ]
  },
  {
   "cell_type": "markdown",
   "metadata": {},
   "source": [
    "You can also access particular elements by typing e.g. d1[5] for the fifth element. "
   ]
  },
  {
   "cell_type": "code",
   "execution_count": 19,
   "metadata": {},
   "outputs": [
    {
     "data": {
      "text/html": [
       "<ol class=list-inline>\n",
       "\t<li>4</li>\n",
       "\t<li>5</li>\n",
       "</ol>\n"
      ],
      "text/latex": [
       "\\begin{enumerate*}\n",
       "\\item 4\n",
       "\\item 5\n",
       "\\end{enumerate*}\n"
      ],
      "text/markdown": [
       "1. 4\n",
       "2. 5\n",
       "\n",
       "\n"
      ],
      "text/plain": [
       "[1] 4 5"
      ]
     },
     "metadata": {},
     "output_type": "display_data"
    }
   ],
   "source": [
    "d1[4:5]"
   ]
  },
  {
   "cell_type": "markdown",
   "metadata": {},
   "source": [
    "Suppose now that you have a file with **text** instead of **numbers**. The *scan* function will not recognise it unless you specify it using the \"what\" option.  \n",
    "To read a column of text strings (without spaces) you'll type:"
   ]
  },
  {
   "cell_type": "code",
   "execution_count": 20,
   "metadata": {},
   "outputs": [
    {
     "data": {
      "text/html": [
       "<ol class=list-inline>\n",
       "\t<li>'a'</li>\n",
       "\t<li>'b'</li>\n",
       "\t<li>'c'</li>\n",
       "\t<li>'a'</li>\n",
       "\t<li>'b'</li>\n",
       "\t<li>'c'</li>\n",
       "\t<li>'a'</li>\n",
       "\t<li>'b'</li>\n",
       "\t<li>'c'</li>\n",
       "\t<li>'a'</li>\n",
       "\t<li>'b'</li>\n",
       "\t<li>'c'</li>\n",
       "\t<li>'a'</li>\n",
       "\t<li>'b'</li>\n",
       "\t<li>'c'</li>\n",
       "\t<li>'a'</li>\n",
       "\t<li>'b'</li>\n",
       "\t<li>'c'</li>\n",
       "\t<li>'a'</li>\n",
       "\t<li>'b'</li>\n",
       "\t<li>'c'</li>\n",
       "\t<li>'a'</li>\n",
       "\t<li>'b'</li>\n",
       "\t<li>'c'</li>\n",
       "\t<li>'a'</li>\n",
       "\t<li>'b'</li>\n",
       "\t<li>'c'</li>\n",
       "\t<li>'a'</li>\n",
       "\t<li>'b'</li>\n",
       "\t<li>'c'</li>\n",
       "\t<li>'a'</li>\n",
       "\t<li>'b'</li>\n",
       "\t<li>'c'</li>\n",
       "\t<li>'a'</li>\n",
       "\t<li>'b'</li>\n",
       "\t<li>'c'</li>\n",
       "\t<li>'a'</li>\n",
       "\t<li>'b'</li>\n",
       "\t<li>'c'</li>\n",
       "\t<li>'a'</li>\n",
       "\t<li>'b'</li>\n",
       "\t<li>'c'</li>\n",
       "\t<li>'a'</li>\n",
       "\t<li>'b'</li>\n",
       "\t<li>'c'</li>\n",
       "\t<li>'a'</li>\n",
       "\t<li>'b'</li>\n",
       "\t<li>'c'</li>\n",
       "\t<li>'a'</li>\n",
       "\t<li>'b'</li>\n",
       "</ol>\n"
      ],
      "text/latex": [
       "\\begin{enumerate*}\n",
       "\\item 'a'\n",
       "\\item 'b'\n",
       "\\item 'c'\n",
       "\\item 'a'\n",
       "\\item 'b'\n",
       "\\item 'c'\n",
       "\\item 'a'\n",
       "\\item 'b'\n",
       "\\item 'c'\n",
       "\\item 'a'\n",
       "\\item 'b'\n",
       "\\item 'c'\n",
       "\\item 'a'\n",
       "\\item 'b'\n",
       "\\item 'c'\n",
       "\\item 'a'\n",
       "\\item 'b'\n",
       "\\item 'c'\n",
       "\\item 'a'\n",
       "\\item 'b'\n",
       "\\item 'c'\n",
       "\\item 'a'\n",
       "\\item 'b'\n",
       "\\item 'c'\n",
       "\\item 'a'\n",
       "\\item 'b'\n",
       "\\item 'c'\n",
       "\\item 'a'\n",
       "\\item 'b'\n",
       "\\item 'c'\n",
       "\\item 'a'\n",
       "\\item 'b'\n",
       "\\item 'c'\n",
       "\\item 'a'\n",
       "\\item 'b'\n",
       "\\item 'c'\n",
       "\\item 'a'\n",
       "\\item 'b'\n",
       "\\item 'c'\n",
       "\\item 'a'\n",
       "\\item 'b'\n",
       "\\item 'c'\n",
       "\\item 'a'\n",
       "\\item 'b'\n",
       "\\item 'c'\n",
       "\\item 'a'\n",
       "\\item 'b'\n",
       "\\item 'c'\n",
       "\\item 'a'\n",
       "\\item 'b'\n",
       "\\end{enumerate*}\n"
      ],
      "text/markdown": [
       "1. 'a'\n",
       "2. 'b'\n",
       "3. 'c'\n",
       "4. 'a'\n",
       "5. 'b'\n",
       "6. 'c'\n",
       "7. 'a'\n",
       "8. 'b'\n",
       "9. 'c'\n",
       "10. 'a'\n",
       "11. 'b'\n",
       "12. 'c'\n",
       "13. 'a'\n",
       "14. 'b'\n",
       "15. 'c'\n",
       "16. 'a'\n",
       "17. 'b'\n",
       "18. 'c'\n",
       "19. 'a'\n",
       "20. 'b'\n",
       "21. 'c'\n",
       "22. 'a'\n",
       "23. 'b'\n",
       "24. 'c'\n",
       "25. 'a'\n",
       "26. 'b'\n",
       "27. 'c'\n",
       "28. 'a'\n",
       "29. 'b'\n",
       "30. 'c'\n",
       "31. 'a'\n",
       "32. 'b'\n",
       "33. 'c'\n",
       "34. 'a'\n",
       "35. 'b'\n",
       "36. 'c'\n",
       "37. 'a'\n",
       "38. 'b'\n",
       "39. 'c'\n",
       "40. 'a'\n",
       "41. 'b'\n",
       "42. 'c'\n",
       "43. 'a'\n",
       "44. 'b'\n",
       "45. 'c'\n",
       "46. 'a'\n",
       "47. 'b'\n",
       "48. 'c'\n",
       "49. 'a'\n",
       "50. 'b'\n",
       "\n",
       "\n"
      ],
      "text/plain": [
       " [1] \"a\" \"b\" \"c\" \"a\" \"b\" \"c\" \"a\" \"b\" \"c\" \"a\" \"b\" \"c\" \"a\" \"b\" \"c\" \"a\" \"b\" \"c\" \"a\"\n",
       "[20] \"b\" \"c\" \"a\" \"b\" \"c\" \"a\" \"b\" \"c\" \"a\" \"b\" \"c\" \"a\" \"b\" \"c\" \"a\" \"b\" \"c\" \"a\" \"b\"\n",
       "[39] \"c\" \"a\" \"b\" \"c\" \"a\" \"b\" \"c\" \"a\" \"b\" \"c\" \"a\" \"b\""
      ]
     },
     "metadata": {},
     "output_type": "display_data"
    }
   ],
   "source": [
    "d2 <- scan(\"../data/Short_introduction_R/datafile_text.txt\",what=\"\")\n",
    "d2"
   ]
  },
  {
   "cell_type": "markdown",
   "metadata": {},
   "source": [
    "If the file now has 3 columns of numbers this becomes more complicated.  \n",
    "It is very important to realise that the scan function \n",
    " * reads the original file ROW by ROW.\n",
    " * puts them into a single VECTOR\n",
    "so, to put them back in the form of a table you have to use a few \"tricks\":\n",
    "\n",
    "The matrix function converts a vector to a matrix by filling the matrix COLUMN by COLUMN. This means that the number of rows is the number of columns in your data file (nrow=3). Therefore to get things right you need the *transpose* function \"t()\" which swaps rows and columns:"
   ]
  },
  {
   "cell_type": "code",
   "execution_count": 21,
   "metadata": {},
   "outputs": [
    {
     "data": {
      "text/html": [
       "<table>\n",
       "<tbody>\n",
       "\t<tr><td>91</td><td>72</td><td>27</td></tr>\n",
       "\t<tr><td>73</td><td>15</td><td>57</td></tr>\n",
       "\t<tr><td>34</td><td>90</td><td>21</td></tr>\n",
       "\t<tr><td>25</td><td>18</td><td>74</td></tr>\n",
       "\t<tr><td>10</td><td>34</td><td>72</td></tr>\n",
       "\t<tr><td>28</td><td>51</td><td>97</td></tr>\n",
       "\t<tr><td>18</td><td>98</td><td>66</td></tr>\n",
       "\t<tr><td>64</td><td>30</td><td>70</td></tr>\n",
       "\t<tr><td>49</td><td>61</td><td>37</td></tr>\n",
       "\t<tr><td>12</td><td>73</td><td>61</td></tr>\n",
       "\t<tr><td>24</td><td>39</td><td>84</td></tr>\n",
       "\t<tr><td>77</td><td>19</td><td>16</td></tr>\n",
       "\t<tr><td>77</td><td>12</td><td>37</td></tr>\n",
       "\t<tr><td>90</td><td>91</td><td>96</td></tr>\n",
       "\t<tr><td>24</td><td>92</td><td>81</td></tr>\n",
       "\t<tr><td>17</td><td>72</td><td>43</td></tr>\n",
       "\t<tr><td>93</td><td>99</td><td>24</td></tr>\n",
       "\t<tr><td>86</td><td>65</td><td>30</td></tr>\n",
       "\t<tr><td>11</td><td>69</td><td>66</td></tr>\n",
       "\t<tr><td>34</td><td>66</td><td> 5</td></tr>\n",
       "\t<tr><td>75</td><td>79</td><td>27</td></tr>\n",
       "\t<tr><td>17</td><td>44</td><td>19</td></tr>\n",
       "\t<tr><td>77</td><td>49</td><td>94</td></tr>\n",
       "\t<tr><td>32</td><td>58</td><td>53</td></tr>\n",
       "\t<tr><td>64</td><td>44</td><td>75</td></tr>\n",
       "\t<tr><td>33</td><td>99</td><td>36</td></tr>\n",
       "\t<tr><td>30</td><td>59</td><td>37</td></tr>\n",
       "\t<tr><td>27</td><td>87</td><td>96</td></tr>\n",
       "\t<tr><td>60</td><td>60</td><td>61</td></tr>\n",
       "\t<tr><td> 4</td><td>51</td><td>44</td></tr>\n",
       "</tbody>\n",
       "</table>\n"
      ],
      "text/latex": [
       "\\begin{tabular}{lll}\n",
       "\t 91 & 72 & 27\\\\\n",
       "\t 73 & 15 & 57\\\\\n",
       "\t 34 & 90 & 21\\\\\n",
       "\t 25 & 18 & 74\\\\\n",
       "\t 10 & 34 & 72\\\\\n",
       "\t 28 & 51 & 97\\\\\n",
       "\t 18 & 98 & 66\\\\\n",
       "\t 64 & 30 & 70\\\\\n",
       "\t 49 & 61 & 37\\\\\n",
       "\t 12 & 73 & 61\\\\\n",
       "\t 24 & 39 & 84\\\\\n",
       "\t 77 & 19 & 16\\\\\n",
       "\t 77 & 12 & 37\\\\\n",
       "\t 90 & 91 & 96\\\\\n",
       "\t 24 & 92 & 81\\\\\n",
       "\t 17 & 72 & 43\\\\\n",
       "\t 93 & 99 & 24\\\\\n",
       "\t 86 & 65 & 30\\\\\n",
       "\t 11 & 69 & 66\\\\\n",
       "\t 34 & 66 &  5\\\\\n",
       "\t 75 & 79 & 27\\\\\n",
       "\t 17 & 44 & 19\\\\\n",
       "\t 77 & 49 & 94\\\\\n",
       "\t 32 & 58 & 53\\\\\n",
       "\t 64 & 44 & 75\\\\\n",
       "\t 33 & 99 & 36\\\\\n",
       "\t 30 & 59 & 37\\\\\n",
       "\t 27 & 87 & 96\\\\\n",
       "\t 60 & 60 & 61\\\\\n",
       "\t  4 & 51 & 44\\\\\n",
       "\\end{tabular}\n"
      ],
      "text/markdown": [
       "\n",
       "| 91 | 72 | 27 | \n",
       "| 73 | 15 | 57 | \n",
       "| 34 | 90 | 21 | \n",
       "| 25 | 18 | 74 | \n",
       "| 10 | 34 | 72 | \n",
       "| 28 | 51 | 97 | \n",
       "| 18 | 98 | 66 | \n",
       "| 64 | 30 | 70 | \n",
       "| 49 | 61 | 37 | \n",
       "| 12 | 73 | 61 | \n",
       "| 24 | 39 | 84 | \n",
       "| 77 | 19 | 16 | \n",
       "| 77 | 12 | 37 | \n",
       "| 90 | 91 | 96 | \n",
       "| 24 | 92 | 81 | \n",
       "| 17 | 72 | 43 | \n",
       "| 93 | 99 | 24 | \n",
       "| 86 | 65 | 30 | \n",
       "| 11 | 69 | 66 | \n",
       "| 34 | 66 |  5 | \n",
       "| 75 | 79 | 27 | \n",
       "| 17 | 44 | 19 | \n",
       "| 77 | 49 | 94 | \n",
       "| 32 | 58 | 53 | \n",
       "| 64 | 44 | 75 | \n",
       "| 33 | 99 | 36 | \n",
       "| 30 | 59 | 37 | \n",
       "| 27 | 87 | 96 | \n",
       "| 60 | 60 | 61 | \n",
       "|  4 | 51 | 44 | \n",
       "\n",
       "\n"
      ],
      "text/plain": [
       "      [,1] [,2] [,3]\n",
       " [1,] 91   72   27  \n",
       " [2,] 73   15   57  \n",
       " [3,] 34   90   21  \n",
       " [4,] 25   18   74  \n",
       " [5,] 10   34   72  \n",
       " [6,] 28   51   97  \n",
       " [7,] 18   98   66  \n",
       " [8,] 64   30   70  \n",
       " [9,] 49   61   37  \n",
       "[10,] 12   73   61  \n",
       "[11,] 24   39   84  \n",
       "[12,] 77   19   16  \n",
       "[13,] 77   12   37  \n",
       "[14,] 90   91   96  \n",
       "[15,] 24   92   81  \n",
       "[16,] 17   72   43  \n",
       "[17,] 93   99   24  \n",
       "[18,] 86   65   30  \n",
       "[19,] 11   69   66  \n",
       "[20,] 34   66    5  \n",
       "[21,] 75   79   27  \n",
       "[22,] 17   44   19  \n",
       "[23,] 77   49   94  \n",
       "[24,] 32   58   53  \n",
       "[25,] 64   44   75  \n",
       "[26,] 33   99   36  \n",
       "[27,] 30   59   37  \n",
       "[28,] 27   87   96  \n",
       "[29,] 60   60   61  \n",
       "[30,]  4   51   44  "
      ]
     },
     "metadata": {},
     "output_type": "display_data"
    }
   ],
   "source": [
    "m1 <- t(matrix(scan(\"../data/Short_introduction_R/datafile_3col_nb.txt\"),nrow=3))\n",
    "m1"
   ]
  },
  {
   "cell_type": "markdown",
   "metadata": {},
   "source": [
    "In this command we have put the three \"actions\" together.  \n",
    "As a beginner it is natural to do things one by one but here it is easier to just type one line.\n",
    "\n",
    "In fact the \"matrix()\" function has a number of options allowing you to actually\n",
    "fill the matrix **by row** in which case the following command should do the same:"
   ]
  },
  {
   "cell_type": "code",
   "execution_count": 22,
   "metadata": {},
   "outputs": [],
   "source": [
    "m1.test <- matrix(scan(\"../data/Short_introduction_R/datafile_3col_nb.txt\"),ncol=3, byrow=T)"
   ]
  },
  {
   "cell_type": "markdown",
   "metadata": {},
   "source": [
    "thus we did not need the transpose function.\n",
    "\n",
    "One simple way to check that they are exactly the same, is to use the \"-\" (minus) operand, since equal terms will produc zeros.  \n",
    "Non zero numbers will be easy to spot."
   ]
  },
  {
   "cell_type": "code",
   "execution_count": 23,
   "metadata": {},
   "outputs": [
    {
     "data": {
      "text/html": [
       "<table>\n",
       "<tbody>\n",
       "\t<tr><td>0</td><td>0</td><td>0</td></tr>\n",
       "\t<tr><td>0</td><td>0</td><td>0</td></tr>\n",
       "\t<tr><td>0</td><td>0</td><td>0</td></tr>\n",
       "\t<tr><td>0</td><td>0</td><td>0</td></tr>\n",
       "\t<tr><td>0</td><td>0</td><td>0</td></tr>\n",
       "\t<tr><td>0</td><td>0</td><td>0</td></tr>\n",
       "\t<tr><td>0</td><td>0</td><td>0</td></tr>\n",
       "\t<tr><td>0</td><td>0</td><td>0</td></tr>\n",
       "\t<tr><td>0</td><td>0</td><td>0</td></tr>\n",
       "\t<tr><td>0</td><td>0</td><td>0</td></tr>\n",
       "\t<tr><td>0</td><td>0</td><td>0</td></tr>\n",
       "\t<tr><td>0</td><td>0</td><td>0</td></tr>\n",
       "\t<tr><td>0</td><td>0</td><td>0</td></tr>\n",
       "\t<tr><td>0</td><td>0</td><td>0</td></tr>\n",
       "\t<tr><td>0</td><td>0</td><td>0</td></tr>\n",
       "\t<tr><td>0</td><td>0</td><td>0</td></tr>\n",
       "\t<tr><td>0</td><td>0</td><td>0</td></tr>\n",
       "\t<tr><td>0</td><td>0</td><td>0</td></tr>\n",
       "\t<tr><td>0</td><td>0</td><td>0</td></tr>\n",
       "\t<tr><td>0</td><td>0</td><td>0</td></tr>\n",
       "\t<tr><td>0</td><td>0</td><td>0</td></tr>\n",
       "\t<tr><td>0</td><td>0</td><td>0</td></tr>\n",
       "\t<tr><td>0</td><td>0</td><td>0</td></tr>\n",
       "\t<tr><td>0</td><td>0</td><td>0</td></tr>\n",
       "\t<tr><td>0</td><td>0</td><td>0</td></tr>\n",
       "\t<tr><td>0</td><td>0</td><td>0</td></tr>\n",
       "\t<tr><td>0</td><td>0</td><td>0</td></tr>\n",
       "\t<tr><td>0</td><td>0</td><td>0</td></tr>\n",
       "\t<tr><td>0</td><td>0</td><td>0</td></tr>\n",
       "\t<tr><td>0</td><td>0</td><td>0</td></tr>\n",
       "</tbody>\n",
       "</table>\n"
      ],
      "text/latex": [
       "\\begin{tabular}{lll}\n",
       "\t 0 & 0 & 0\\\\\n",
       "\t 0 & 0 & 0\\\\\n",
       "\t 0 & 0 & 0\\\\\n",
       "\t 0 & 0 & 0\\\\\n",
       "\t 0 & 0 & 0\\\\\n",
       "\t 0 & 0 & 0\\\\\n",
       "\t 0 & 0 & 0\\\\\n",
       "\t 0 & 0 & 0\\\\\n",
       "\t 0 & 0 & 0\\\\\n",
       "\t 0 & 0 & 0\\\\\n",
       "\t 0 & 0 & 0\\\\\n",
       "\t 0 & 0 & 0\\\\\n",
       "\t 0 & 0 & 0\\\\\n",
       "\t 0 & 0 & 0\\\\\n",
       "\t 0 & 0 & 0\\\\\n",
       "\t 0 & 0 & 0\\\\\n",
       "\t 0 & 0 & 0\\\\\n",
       "\t 0 & 0 & 0\\\\\n",
       "\t 0 & 0 & 0\\\\\n",
       "\t 0 & 0 & 0\\\\\n",
       "\t 0 & 0 & 0\\\\\n",
       "\t 0 & 0 & 0\\\\\n",
       "\t 0 & 0 & 0\\\\\n",
       "\t 0 & 0 & 0\\\\\n",
       "\t 0 & 0 & 0\\\\\n",
       "\t 0 & 0 & 0\\\\\n",
       "\t 0 & 0 & 0\\\\\n",
       "\t 0 & 0 & 0\\\\\n",
       "\t 0 & 0 & 0\\\\\n",
       "\t 0 & 0 & 0\\\\\n",
       "\\end{tabular}\n"
      ],
      "text/markdown": [
       "\n",
       "| 0 | 0 | 0 | \n",
       "| 0 | 0 | 0 | \n",
       "| 0 | 0 | 0 | \n",
       "| 0 | 0 | 0 | \n",
       "| 0 | 0 | 0 | \n",
       "| 0 | 0 | 0 | \n",
       "| 0 | 0 | 0 | \n",
       "| 0 | 0 | 0 | \n",
       "| 0 | 0 | 0 | \n",
       "| 0 | 0 | 0 | \n",
       "| 0 | 0 | 0 | \n",
       "| 0 | 0 | 0 | \n",
       "| 0 | 0 | 0 | \n",
       "| 0 | 0 | 0 | \n",
       "| 0 | 0 | 0 | \n",
       "| 0 | 0 | 0 | \n",
       "| 0 | 0 | 0 | \n",
       "| 0 | 0 | 0 | \n",
       "| 0 | 0 | 0 | \n",
       "| 0 | 0 | 0 | \n",
       "| 0 | 0 | 0 | \n",
       "| 0 | 0 | 0 | \n",
       "| 0 | 0 | 0 | \n",
       "| 0 | 0 | 0 | \n",
       "| 0 | 0 | 0 | \n",
       "| 0 | 0 | 0 | \n",
       "| 0 | 0 | 0 | \n",
       "| 0 | 0 | 0 | \n",
       "| 0 | 0 | 0 | \n",
       "| 0 | 0 | 0 | \n",
       "\n",
       "\n"
      ],
      "text/plain": [
       "      [,1] [,2] [,3]\n",
       " [1,] 0    0    0   \n",
       " [2,] 0    0    0   \n",
       " [3,] 0    0    0   \n",
       " [4,] 0    0    0   \n",
       " [5,] 0    0    0   \n",
       " [6,] 0    0    0   \n",
       " [7,] 0    0    0   \n",
       " [8,] 0    0    0   \n",
       " [9,] 0    0    0   \n",
       "[10,] 0    0    0   \n",
       "[11,] 0    0    0   \n",
       "[12,] 0    0    0   \n",
       "[13,] 0    0    0   \n",
       "[14,] 0    0    0   \n",
       "[15,] 0    0    0   \n",
       "[16,] 0    0    0   \n",
       "[17,] 0    0    0   \n",
       "[18,] 0    0    0   \n",
       "[19,] 0    0    0   \n",
       "[20,] 0    0    0   \n",
       "[21,] 0    0    0   \n",
       "[22,] 0    0    0   \n",
       "[23,] 0    0    0   \n",
       "[24,] 0    0    0   \n",
       "[25,] 0    0    0   \n",
       "[26,] 0    0    0   \n",
       "[27,] 0    0    0   \n",
       "[28,] 0    0    0   \n",
       "[29,] 0    0    0   \n",
       "[30,] 0    0    0   "
      ]
     },
     "metadata": {},
     "output_type": "display_data"
    }
   ],
   "source": [
    "m1 - m1.test"
   ]
  },
  {
   "cell_type": "markdown",
   "metadata": {},
   "source": [
    "If *m1* and *m1.test* were very long it might be easier to sum all the differences and check whether they sum up to zero:"
   ]
  },
  {
   "cell_type": "code",
   "execution_count": 29,
   "metadata": {},
   "outputs": [
    {
     "data": {
      "text/html": [
       "0"
      ],
      "text/latex": [
       "0"
      ],
      "text/markdown": [
       "0"
      ],
      "text/plain": [
       "[1] 0"
      ]
     },
     "metadata": {},
     "output_type": "display_data"
    },
    {
     "data": {
      "text/html": [
       "0"
      ],
      "text/latex": [
       "0"
      ],
      "text/markdown": [
       "0"
      ],
      "text/plain": [
       "[1] 0"
      ]
     },
     "metadata": {},
     "output_type": "display_data"
    }
   ],
   "source": [
    "sum(m1 - m1.test)\n",
    "sum(abs(m1-m1.test))  # A possitive error and a negative error may sum to zero"
   ]
  },
  {
   "cell_type": "markdown",
   "metadata": {},
   "source": [
    "To access elements of a matrix you need to give the row and column\n",
    "e.g. $m1[2,3]$ for the element of the second row, third column."
   ]
  },
  {
   "cell_type": "code",
   "execution_count": 30,
   "metadata": {},
   "outputs": [
    {
     "data": {
      "text/html": [
       "57"
      ],
      "text/latex": [
       "57"
      ],
      "text/markdown": [
       "57"
      ],
      "text/plain": [
       "[1] 57"
      ]
     },
     "metadata": {},
     "output_type": "display_data"
    }
   ],
   "source": [
    "m1[2,3]"
   ]
  },
  {
   "cell_type": "markdown",
   "metadata": {},
   "source": [
    "Similarly you can obtain a whole column by typing e.g. $m1[,1]$ or a whole \n",
    "row by typing $m1[3,]$. "
   ]
  },
  {
   "cell_type": "code",
   "execution_count": 31,
   "metadata": {},
   "outputs": [
    {
     "data": {
      "text/html": [
       "<ol class=list-inline>\n",
       "\t<li>91</li>\n",
       "\t<li>73</li>\n",
       "\t<li>34</li>\n",
       "\t<li>25</li>\n",
       "\t<li>10</li>\n",
       "\t<li>28</li>\n",
       "\t<li>18</li>\n",
       "\t<li>64</li>\n",
       "\t<li>49</li>\n",
       "\t<li>12</li>\n",
       "\t<li>24</li>\n",
       "\t<li>77</li>\n",
       "\t<li>77</li>\n",
       "\t<li>90</li>\n",
       "\t<li>24</li>\n",
       "\t<li>17</li>\n",
       "\t<li>93</li>\n",
       "\t<li>86</li>\n",
       "\t<li>11</li>\n",
       "\t<li>34</li>\n",
       "\t<li>75</li>\n",
       "\t<li>17</li>\n",
       "\t<li>77</li>\n",
       "\t<li>32</li>\n",
       "\t<li>64</li>\n",
       "\t<li>33</li>\n",
       "\t<li>30</li>\n",
       "\t<li>27</li>\n",
       "\t<li>60</li>\n",
       "\t<li>4</li>\n",
       "</ol>\n"
      ],
      "text/latex": [
       "\\begin{enumerate*}\n",
       "\\item 91\n",
       "\\item 73\n",
       "\\item 34\n",
       "\\item 25\n",
       "\\item 10\n",
       "\\item 28\n",
       "\\item 18\n",
       "\\item 64\n",
       "\\item 49\n",
       "\\item 12\n",
       "\\item 24\n",
       "\\item 77\n",
       "\\item 77\n",
       "\\item 90\n",
       "\\item 24\n",
       "\\item 17\n",
       "\\item 93\n",
       "\\item 86\n",
       "\\item 11\n",
       "\\item 34\n",
       "\\item 75\n",
       "\\item 17\n",
       "\\item 77\n",
       "\\item 32\n",
       "\\item 64\n",
       "\\item 33\n",
       "\\item 30\n",
       "\\item 27\n",
       "\\item 60\n",
       "\\item 4\n",
       "\\end{enumerate*}\n"
      ],
      "text/markdown": [
       "1. 91\n",
       "2. 73\n",
       "3. 34\n",
       "4. 25\n",
       "5. 10\n",
       "6. 28\n",
       "7. 18\n",
       "8. 64\n",
       "9. 49\n",
       "10. 12\n",
       "11. 24\n",
       "12. 77\n",
       "13. 77\n",
       "14. 90\n",
       "15. 24\n",
       "16. 17\n",
       "17. 93\n",
       "18. 86\n",
       "19. 11\n",
       "20. 34\n",
       "21. 75\n",
       "22. 17\n",
       "23. 77\n",
       "24. 32\n",
       "25. 64\n",
       "26. 33\n",
       "27. 30\n",
       "28. 27\n",
       "29. 60\n",
       "30. 4\n",
       "\n",
       "\n"
      ],
      "text/plain": [
       " [1] 91 73 34 25 10 28 18 64 49 12 24 77 77 90 24 17 93 86 11 34 75 17 77 32 64\n",
       "[26] 33 30 27 60  4"
      ]
     },
     "metadata": {},
     "output_type": "display_data"
    },
    {
     "data": {
      "text/html": [
       "<ol class=list-inline>\n",
       "\t<li>34</li>\n",
       "\t<li>90</li>\n",
       "\t<li>21</li>\n",
       "</ol>\n"
      ],
      "text/latex": [
       "\\begin{enumerate*}\n",
       "\\item 34\n",
       "\\item 90\n",
       "\\item 21\n",
       "\\end{enumerate*}\n"
      ],
      "text/markdown": [
       "1. 34\n",
       "2. 90\n",
       "3. 21\n",
       "\n",
       "\n"
      ],
      "text/plain": [
       "[1] 34 90 21"
      ]
     },
     "metadata": {},
     "output_type": "display_data"
    }
   ],
   "source": [
    "m1[,1]\n",
    "m1[3,]"
   ]
  },
  {
   "cell_type": "markdown",
   "metadata": {},
   "source": [
    "You can also get the lines 5 to 10"
   ]
  },
  {
   "cell_type": "code",
   "execution_count": 32,
   "metadata": {},
   "outputs": [
    {
     "data": {
      "text/html": [
       "<table>\n",
       "<tbody>\n",
       "\t<tr><td>10</td><td>34</td><td>72</td></tr>\n",
       "\t<tr><td>28</td><td>51</td><td>97</td></tr>\n",
       "\t<tr><td>18</td><td>98</td><td>66</td></tr>\n",
       "\t<tr><td>64</td><td>30</td><td>70</td></tr>\n",
       "\t<tr><td>49</td><td>61</td><td>37</td></tr>\n",
       "\t<tr><td>12</td><td>73</td><td>61</td></tr>\n",
       "</tbody>\n",
       "</table>\n"
      ],
      "text/latex": [
       "\\begin{tabular}{lll}\n",
       "\t 10 & 34 & 72\\\\\n",
       "\t 28 & 51 & 97\\\\\n",
       "\t 18 & 98 & 66\\\\\n",
       "\t 64 & 30 & 70\\\\\n",
       "\t 49 & 61 & 37\\\\\n",
       "\t 12 & 73 & 61\\\\\n",
       "\\end{tabular}\n"
      ],
      "text/markdown": [
       "\n",
       "| 10 | 34 | 72 | \n",
       "| 28 | 51 | 97 | \n",
       "| 18 | 98 | 66 | \n",
       "| 64 | 30 | 70 | \n",
       "| 49 | 61 | 37 | \n",
       "| 12 | 73 | 61 | \n",
       "\n",
       "\n"
      ],
      "text/plain": [
       "     [,1] [,2] [,3]\n",
       "[1,] 10   34   72  \n",
       "[2,] 28   51   97  \n",
       "[3,] 18   98   66  \n",
       "[4,] 64   30   70  \n",
       "[5,] 49   61   37  \n",
       "[6,] 12   73   61  "
      ]
     },
     "metadata": {},
     "output_type": "display_data"
    }
   ],
   "source": [
    "m1[5:10,]"
   ]
  },
  {
   "cell_type": "markdown",
   "metadata": {},
   "source": [
    "or everything BUT lines 5 to 10"
   ]
  },
  {
   "cell_type": "code",
   "execution_count": 33,
   "metadata": {},
   "outputs": [
    {
     "data": {
      "text/html": [
       "<table>\n",
       "<tbody>\n",
       "\t<tr><td>91</td><td>72</td><td>27</td></tr>\n",
       "\t<tr><td>73</td><td>15</td><td>57</td></tr>\n",
       "\t<tr><td>34</td><td>90</td><td>21</td></tr>\n",
       "\t<tr><td>25</td><td>18</td><td>74</td></tr>\n",
       "\t<tr><td>24</td><td>39</td><td>84</td></tr>\n",
       "\t<tr><td>77</td><td>19</td><td>16</td></tr>\n",
       "\t<tr><td>77</td><td>12</td><td>37</td></tr>\n",
       "\t<tr><td>90</td><td>91</td><td>96</td></tr>\n",
       "\t<tr><td>24</td><td>92</td><td>81</td></tr>\n",
       "\t<tr><td>17</td><td>72</td><td>43</td></tr>\n",
       "\t<tr><td>93</td><td>99</td><td>24</td></tr>\n",
       "\t<tr><td>86</td><td>65</td><td>30</td></tr>\n",
       "\t<tr><td>11</td><td>69</td><td>66</td></tr>\n",
       "\t<tr><td>34</td><td>66</td><td> 5</td></tr>\n",
       "\t<tr><td>75</td><td>79</td><td>27</td></tr>\n",
       "\t<tr><td>17</td><td>44</td><td>19</td></tr>\n",
       "\t<tr><td>77</td><td>49</td><td>94</td></tr>\n",
       "\t<tr><td>32</td><td>58</td><td>53</td></tr>\n",
       "\t<tr><td>64</td><td>44</td><td>75</td></tr>\n",
       "\t<tr><td>33</td><td>99</td><td>36</td></tr>\n",
       "\t<tr><td>30</td><td>59</td><td>37</td></tr>\n",
       "\t<tr><td>27</td><td>87</td><td>96</td></tr>\n",
       "\t<tr><td>60</td><td>60</td><td>61</td></tr>\n",
       "\t<tr><td> 4</td><td>51</td><td>44</td></tr>\n",
       "</tbody>\n",
       "</table>\n"
      ],
      "text/latex": [
       "\\begin{tabular}{lll}\n",
       "\t 91 & 72 & 27\\\\\n",
       "\t 73 & 15 & 57\\\\\n",
       "\t 34 & 90 & 21\\\\\n",
       "\t 25 & 18 & 74\\\\\n",
       "\t 24 & 39 & 84\\\\\n",
       "\t 77 & 19 & 16\\\\\n",
       "\t 77 & 12 & 37\\\\\n",
       "\t 90 & 91 & 96\\\\\n",
       "\t 24 & 92 & 81\\\\\n",
       "\t 17 & 72 & 43\\\\\n",
       "\t 93 & 99 & 24\\\\\n",
       "\t 86 & 65 & 30\\\\\n",
       "\t 11 & 69 & 66\\\\\n",
       "\t 34 & 66 &  5\\\\\n",
       "\t 75 & 79 & 27\\\\\n",
       "\t 17 & 44 & 19\\\\\n",
       "\t 77 & 49 & 94\\\\\n",
       "\t 32 & 58 & 53\\\\\n",
       "\t 64 & 44 & 75\\\\\n",
       "\t 33 & 99 & 36\\\\\n",
       "\t 30 & 59 & 37\\\\\n",
       "\t 27 & 87 & 96\\\\\n",
       "\t 60 & 60 & 61\\\\\n",
       "\t  4 & 51 & 44\\\\\n",
       "\\end{tabular}\n"
      ],
      "text/markdown": [
       "\n",
       "| 91 | 72 | 27 | \n",
       "| 73 | 15 | 57 | \n",
       "| 34 | 90 | 21 | \n",
       "| 25 | 18 | 74 | \n",
       "| 24 | 39 | 84 | \n",
       "| 77 | 19 | 16 | \n",
       "| 77 | 12 | 37 | \n",
       "| 90 | 91 | 96 | \n",
       "| 24 | 92 | 81 | \n",
       "| 17 | 72 | 43 | \n",
       "| 93 | 99 | 24 | \n",
       "| 86 | 65 | 30 | \n",
       "| 11 | 69 | 66 | \n",
       "| 34 | 66 |  5 | \n",
       "| 75 | 79 | 27 | \n",
       "| 17 | 44 | 19 | \n",
       "| 77 | 49 | 94 | \n",
       "| 32 | 58 | 53 | \n",
       "| 64 | 44 | 75 | \n",
       "| 33 | 99 | 36 | \n",
       "| 30 | 59 | 37 | \n",
       "| 27 | 87 | 96 | \n",
       "| 60 | 60 | 61 | \n",
       "|  4 | 51 | 44 | \n",
       "\n",
       "\n"
      ],
      "text/plain": [
       "      [,1] [,2] [,3]\n",
       " [1,] 91   72   27  \n",
       " [2,] 73   15   57  \n",
       " [3,] 34   90   21  \n",
       " [4,] 25   18   74  \n",
       " [5,] 24   39   84  \n",
       " [6,] 77   19   16  \n",
       " [7,] 77   12   37  \n",
       " [8,] 90   91   96  \n",
       " [9,] 24   92   81  \n",
       "[10,] 17   72   43  \n",
       "[11,] 93   99   24  \n",
       "[12,] 86   65   30  \n",
       "[13,] 11   69   66  \n",
       "[14,] 34   66    5  \n",
       "[15,] 75   79   27  \n",
       "[16,] 17   44   19  \n",
       "[17,] 77   49   94  \n",
       "[18,] 32   58   53  \n",
       "[19,] 64   44   75  \n",
       "[20,] 33   99   36  \n",
       "[21,] 30   59   37  \n",
       "[22,] 27   87   96  \n",
       "[23,] 60   60   61  \n",
       "[24,]  4   51   44  "
      ]
     },
     "metadata": {},
     "output_type": "display_data"
    }
   ],
   "source": [
    "m1[-(5:10),]"
   ]
  },
  {
   "cell_type": "markdown",
   "metadata": {},
   "source": [
    "Or a sub-matrix, for instance between line 5 and 10 and between column 1 and 2"
   ]
  },
  {
   "cell_type": "code",
   "execution_count": 34,
   "metadata": {},
   "outputs": [
    {
     "data": {
      "text/html": [
       "<table>\n",
       "<tbody>\n",
       "\t<tr><td>10</td><td>34</td></tr>\n",
       "\t<tr><td>28</td><td>51</td></tr>\n",
       "\t<tr><td>18</td><td>98</td></tr>\n",
       "\t<tr><td>64</td><td>30</td></tr>\n",
       "\t<tr><td>49</td><td>61</td></tr>\n",
       "\t<tr><td>12</td><td>73</td></tr>\n",
       "</tbody>\n",
       "</table>\n"
      ],
      "text/latex": [
       "\\begin{tabular}{ll}\n",
       "\t 10 & 34\\\\\n",
       "\t 28 & 51\\\\\n",
       "\t 18 & 98\\\\\n",
       "\t 64 & 30\\\\\n",
       "\t 49 & 61\\\\\n",
       "\t 12 & 73\\\\\n",
       "\\end{tabular}\n"
      ],
      "text/markdown": [
       "\n",
       "| 10 | 34 | \n",
       "| 28 | 51 | \n",
       "| 18 | 98 | \n",
       "| 64 | 30 | \n",
       "| 49 | 61 | \n",
       "| 12 | 73 | \n",
       "\n",
       "\n"
      ],
      "text/plain": [
       "     [,1] [,2]\n",
       "[1,] 10   34  \n",
       "[2,] 28   51  \n",
       "[3,] 18   98  \n",
       "[4,] 64   30  \n",
       "[5,] 49   61  \n",
       "[6,] 12   73  "
      ]
     },
     "metadata": {},
     "output_type": "display_data"
    }
   ],
   "source": [
    "m1[5:10, 1:2]"
   ]
  },
  {
   "cell_type": "markdown",
   "metadata": {},
   "source": [
    "Here we assign the first column to the variable var1."
   ]
  },
  {
   "cell_type": "code",
   "execution_count": 35,
   "metadata": {},
   "outputs": [
    {
     "data": {
      "text/html": [
       "<ol class=list-inline>\n",
       "\t<li>91</li>\n",
       "\t<li>73</li>\n",
       "\t<li>34</li>\n",
       "\t<li>25</li>\n",
       "\t<li>10</li>\n",
       "\t<li>28</li>\n",
       "\t<li>18</li>\n",
       "\t<li>64</li>\n",
       "\t<li>49</li>\n",
       "\t<li>12</li>\n",
       "\t<li>24</li>\n",
       "\t<li>77</li>\n",
       "\t<li>77</li>\n",
       "\t<li>90</li>\n",
       "\t<li>24</li>\n",
       "\t<li>17</li>\n",
       "\t<li>93</li>\n",
       "\t<li>86</li>\n",
       "\t<li>11</li>\n",
       "\t<li>34</li>\n",
       "\t<li>75</li>\n",
       "\t<li>17</li>\n",
       "\t<li>77</li>\n",
       "\t<li>32</li>\n",
       "\t<li>64</li>\n",
       "\t<li>33</li>\n",
       "\t<li>30</li>\n",
       "\t<li>27</li>\n",
       "\t<li>60</li>\n",
       "\t<li>4</li>\n",
       "</ol>\n"
      ],
      "text/latex": [
       "\\begin{enumerate*}\n",
       "\\item 91\n",
       "\\item 73\n",
       "\\item 34\n",
       "\\item 25\n",
       "\\item 10\n",
       "\\item 28\n",
       "\\item 18\n",
       "\\item 64\n",
       "\\item 49\n",
       "\\item 12\n",
       "\\item 24\n",
       "\\item 77\n",
       "\\item 77\n",
       "\\item 90\n",
       "\\item 24\n",
       "\\item 17\n",
       "\\item 93\n",
       "\\item 86\n",
       "\\item 11\n",
       "\\item 34\n",
       "\\item 75\n",
       "\\item 17\n",
       "\\item 77\n",
       "\\item 32\n",
       "\\item 64\n",
       "\\item 33\n",
       "\\item 30\n",
       "\\item 27\n",
       "\\item 60\n",
       "\\item 4\n",
       "\\end{enumerate*}\n"
      ],
      "text/markdown": [
       "1. 91\n",
       "2. 73\n",
       "3. 34\n",
       "4. 25\n",
       "5. 10\n",
       "6. 28\n",
       "7. 18\n",
       "8. 64\n",
       "9. 49\n",
       "10. 12\n",
       "11. 24\n",
       "12. 77\n",
       "13. 77\n",
       "14. 90\n",
       "15. 24\n",
       "16. 17\n",
       "17. 93\n",
       "18. 86\n",
       "19. 11\n",
       "20. 34\n",
       "21. 75\n",
       "22. 17\n",
       "23. 77\n",
       "24. 32\n",
       "25. 64\n",
       "26. 33\n",
       "27. 30\n",
       "28. 27\n",
       "29. 60\n",
       "30. 4\n",
       "\n",
       "\n"
      ],
      "text/plain": [
       " [1] 91 73 34 25 10 28 18 64 49 12 24 77 77 90 24 17 93 86 11 34 75 17 77 32 64\n",
       "[26] 33 30 27 60  4"
      ]
     },
     "metadata": {},
     "output_type": "display_data"
    }
   ],
   "source": [
    "var1 <- m1[,1]\n",
    "var1"
   ]
  },
  {
   "cell_type": "markdown",
   "metadata": {},
   "source": [
    "To read 1 column of text and 2 columns of numbers"
   ]
  },
  {
   "cell_type": "code",
   "execution_count": 36,
   "metadata": {},
   "outputs": [
    {
     "data": {
      "text/html": [
       "<table>\n",
       "<tbody>\n",
       "\t<tr><td>cat                </td><td>-0.635891035389401 </td><td>2.17275908036928   </td></tr>\n",
       "\t<tr><td>dog                </td><td>0.173664313513516  </td><td>-0.502444826795603 </td></tr>\n",
       "\t<tr><td>mouse              </td><td>-0.738705303972508 </td><td>-0.785112404720335 </td></tr>\n",
       "\t<tr><td>snail              </td><td>-0.199310683368589 </td><td>0.12779845004012   </td></tr>\n",
       "\t<tr><td>cow                </td><td>0.560096498439368  </td><td>-1.45489431156920  </td></tr>\n",
       "\t<tr><td>cat                </td><td>0.476057231758322  </td><td>1.54103504594794   </td></tr>\n",
       "\t<tr><td>dog                </td><td>0.228317329646571  </td><td>1.29777787415815   </td></tr>\n",
       "\t<tr><td>mouse              </td><td>-1.18275223739803  </td><td>-0.463536102488631 </td></tr>\n",
       "\t<tr><td>snail              </td><td>1.02249002211905   </td><td>1.30175834167891   </td></tr>\n",
       "\t<tr><td>cow                </td><td>-0.641281116637957 </td><td>0.603022609817419  </td></tr>\n",
       "\t<tr><td>cat                </td><td>-0.43208043732055  </td><td>-1.72893656704963  </td></tr>\n",
       "\t<tr><td>dog                </td><td>0.472970950275773  </td><td>2.37310058567277   </td></tr>\n",
       "\t<tr><td>mouse              </td><td>0.769696575327012  </td><td>-1.93723583839602  </td></tr>\n",
       "\t<tr><td>snail              </td><td>-0.41015544552421  </td><td>-0.69261058907979  </td></tr>\n",
       "\t<tr><td>cow                </td><td>0.969251845276534  </td><td>-1.94718744135579  </td></tr>\n",
       "\t<tr><td>cat                </td><td>-0.0018733964075376</td><td>1.48619630287141   </td></tr>\n",
       "\t<tr><td>dog                </td><td>-1.53426824328322  </td><td>-1.80570196917482  </td></tr>\n",
       "\t<tr><td>mouse              </td><td>-0.130464885157510 </td><td>-1.36783580291419  </td></tr>\n",
       "\t<tr><td>snail              </td><td>0.202493310092283  </td><td>1.32075056385483   </td></tr>\n",
       "\t<tr><td>cow                </td><td>0.758819927901333  </td><td>0.75034631623543   </td></tr>\n",
       "\t<tr><td>cat                </td><td>-1.74469475521039  </td><td>0.745999848608218  </td></tr>\n",
       "\t<tr><td>dog                </td><td>0.597896542941487  </td><td>1.06423572730028   </td></tr>\n",
       "\t<tr><td>mouse              </td><td>-0.781546223270438 </td><td>0.278483011283731  </td></tr>\n",
       "\t<tr><td>snail              </td><td>0.144867732812080  </td><td>0.13667350451369   </td></tr>\n",
       "\t<tr><td>cow                </td><td>0.241567282087582  </td><td>0.416148511483313  </td></tr>\n",
       "\t<tr><td>cat                </td><td>1.11768001313257   </td><td>-0.409486227223678 </td></tr>\n",
       "\t<tr><td>dog                </td><td>-1.56747306660403  </td><td>-0.498650163350351 </td></tr>\n",
       "\t<tr><td>mouse              </td><td>-1.48919129686801  </td><td>0.336265242563881  </td></tr>\n",
       "\t<tr><td>snail              </td><td>0.465636710839489  </td><td>0.78287418701636   </td></tr>\n",
       "\t<tr><td>cow                </td><td>-1.05958565635749  </td><td>0.930842906910311  </td></tr>\n",
       "\t<tr><td>cat                </td><td>-0.300744578910666 </td><td>-0.50388618656645  </td></tr>\n",
       "\t<tr><td>dog                </td><td>-0.39474131808107  </td><td>1.48188355899607   </td></tr>\n",
       "\t<tr><td>mouse              </td><td>0.388513220661986  </td><td>-0.238110944253783 </td></tr>\n",
       "\t<tr><td>snail              </td><td>0.271351330029639  </td><td>1.63947920298937   </td></tr>\n",
       "\t<tr><td>cow                </td><td>0.692941570451473  </td><td>0.433435752372299  </td></tr>\n",
       "\t<tr><td>cat                </td><td>-1.15615746141623  </td><td>0.909844259362305  </td></tr>\n",
       "\t<tr><td>dog                </td><td>-0.0152971654982683</td><td>-1.49686563700121  </td></tr>\n",
       "\t<tr><td>mouse              </td><td>-0.571519826149061 </td><td>0.868345054560426  </td></tr>\n",
       "\t<tr><td>snail              </td><td>-1.23544688583013  </td><td>-0.305068316537632 </td></tr>\n",
       "\t<tr><td>cow                </td><td>-0.970453349741847 </td><td>1.24792203826773   </td></tr>\n",
       "\t<tr><td>cat                </td><td>0.89491171958216   </td><td>0.291711022930925  </td></tr>\n",
       "\t<tr><td>dog                </td><td>-0.570532832863229 </td><td>1.11923838220852   </td></tr>\n",
       "\t<tr><td>mouse              </td><td>1.01892247690068   </td><td>-1.31579860356526  </td></tr>\n",
       "\t<tr><td>snail              </td><td>0.606740171076296  </td><td>-1.07176398692570  </td></tr>\n",
       "\t<tr><td>cow                </td><td>0.366796551380125  </td><td>0.155451870369877  </td></tr>\n",
       "\t<tr><td>cat                </td><td>-1.19177872538755  </td><td>0.212603949261034  </td></tr>\n",
       "\t<tr><td>dog                </td><td>0.611122981466123  </td><td>0.672995098818961  </td></tr>\n",
       "\t<tr><td>mouse              </td><td>-0.357303995659131 </td><td>-0.607612144219023 </td></tr>\n",
       "\t<tr><td>snail              </td><td>-1.05252469861475  </td><td>0.950347043307238  </td></tr>\n",
       "\t<tr><td>cow                </td><td>0.11735244193594   </td><td>0.210217561561932  </td></tr>\n",
       "</tbody>\n",
       "</table>\n"
      ],
      "text/latex": [
       "\\begin{tabular}{lll}\n",
       "\t cat                 & -0.635891035389401  & 2.17275908036928   \\\\\n",
       "\t dog                 & 0.173664313513516   & -0.502444826795603 \\\\\n",
       "\t mouse               & -0.738705303972508  & -0.785112404720335 \\\\\n",
       "\t snail               & -0.199310683368589  & 0.12779845004012   \\\\\n",
       "\t cow                 & 0.560096498439368   & -1.45489431156920  \\\\\n",
       "\t cat                 & 0.476057231758322   & 1.54103504594794   \\\\\n",
       "\t dog                 & 0.228317329646571   & 1.29777787415815   \\\\\n",
       "\t mouse               & -1.18275223739803   & -0.463536102488631 \\\\\n",
       "\t snail               & 1.02249002211905    & 1.30175834167891   \\\\\n",
       "\t cow                 & -0.641281116637957  & 0.603022609817419  \\\\\n",
       "\t cat                 & -0.43208043732055   & -1.72893656704963  \\\\\n",
       "\t dog                 & 0.472970950275773   & 2.37310058567277   \\\\\n",
       "\t mouse               & 0.769696575327012   & -1.93723583839602  \\\\\n",
       "\t snail               & -0.41015544552421   & -0.69261058907979  \\\\\n",
       "\t cow                 & 0.969251845276534   & -1.94718744135579  \\\\\n",
       "\t cat                 & -0.0018733964075376 & 1.48619630287141   \\\\\n",
       "\t dog                 & -1.53426824328322   & -1.80570196917482  \\\\\n",
       "\t mouse               & -0.130464885157510  & -1.36783580291419  \\\\\n",
       "\t snail               & 0.202493310092283   & 1.32075056385483   \\\\\n",
       "\t cow                 & 0.758819927901333   & 0.75034631623543   \\\\\n",
       "\t cat                 & -1.74469475521039   & 0.745999848608218  \\\\\n",
       "\t dog                 & 0.597896542941487   & 1.06423572730028   \\\\\n",
       "\t mouse               & -0.781546223270438  & 0.278483011283731  \\\\\n",
       "\t snail               & 0.144867732812080   & 0.13667350451369   \\\\\n",
       "\t cow                 & 0.241567282087582   & 0.416148511483313  \\\\\n",
       "\t cat                 & 1.11768001313257    & -0.409486227223678 \\\\\n",
       "\t dog                 & -1.56747306660403   & -0.498650163350351 \\\\\n",
       "\t mouse               & -1.48919129686801   & 0.336265242563881  \\\\\n",
       "\t snail               & 0.465636710839489   & 0.78287418701636   \\\\\n",
       "\t cow                 & -1.05958565635749   & 0.930842906910311  \\\\\n",
       "\t cat                 & -0.300744578910666  & -0.50388618656645  \\\\\n",
       "\t dog                 & -0.39474131808107   & 1.48188355899607   \\\\\n",
       "\t mouse               & 0.388513220661986   & -0.238110944253783 \\\\\n",
       "\t snail               & 0.271351330029639   & 1.63947920298937   \\\\\n",
       "\t cow                 & 0.692941570451473   & 0.433435752372299  \\\\\n",
       "\t cat                 & -1.15615746141623   & 0.909844259362305  \\\\\n",
       "\t dog                 & -0.0152971654982683 & -1.49686563700121  \\\\\n",
       "\t mouse               & -0.571519826149061  & 0.868345054560426  \\\\\n",
       "\t snail               & -1.23544688583013   & -0.305068316537632 \\\\\n",
       "\t cow                 & -0.970453349741847  & 1.24792203826773   \\\\\n",
       "\t cat                 & 0.89491171958216    & 0.291711022930925  \\\\\n",
       "\t dog                 & -0.570532832863229  & 1.11923838220852   \\\\\n",
       "\t mouse               & 1.01892247690068    & -1.31579860356526  \\\\\n",
       "\t snail               & 0.606740171076296   & -1.07176398692570  \\\\\n",
       "\t cow                 & 0.366796551380125   & 0.155451870369877  \\\\\n",
       "\t cat                 & -1.19177872538755   & 0.212603949261034  \\\\\n",
       "\t dog                 & 0.611122981466123   & 0.672995098818961  \\\\\n",
       "\t mouse               & -0.357303995659131  & -0.607612144219023 \\\\\n",
       "\t snail               & -1.05252469861475   & 0.950347043307238  \\\\\n",
       "\t cow                 & 0.11735244193594    & 0.210217561561932  \\\\\n",
       "\\end{tabular}\n"
      ],
      "text/markdown": [
       "\n",
       "| cat                 | -0.635891035389401  | 2.17275908036928    | \n",
       "| dog                 | 0.173664313513516   | -0.502444826795603  | \n",
       "| mouse               | -0.738705303972508  | -0.785112404720335  | \n",
       "| snail               | -0.199310683368589  | 0.12779845004012    | \n",
       "| cow                 | 0.560096498439368   | -1.45489431156920   | \n",
       "| cat                 | 0.476057231758322   | 1.54103504594794    | \n",
       "| dog                 | 0.228317329646571   | 1.29777787415815    | \n",
       "| mouse               | -1.18275223739803   | -0.463536102488631  | \n",
       "| snail               | 1.02249002211905    | 1.30175834167891    | \n",
       "| cow                 | -0.641281116637957  | 0.603022609817419   | \n",
       "| cat                 | -0.43208043732055   | -1.72893656704963   | \n",
       "| dog                 | 0.472970950275773   | 2.37310058567277    | \n",
       "| mouse               | 0.769696575327012   | -1.93723583839602   | \n",
       "| snail               | -0.41015544552421   | -0.69261058907979   | \n",
       "| cow                 | 0.969251845276534   | -1.94718744135579   | \n",
       "| cat                 | -0.0018733964075376 | 1.48619630287141    | \n",
       "| dog                 | -1.53426824328322   | -1.80570196917482   | \n",
       "| mouse               | -0.130464885157510  | -1.36783580291419   | \n",
       "| snail               | 0.202493310092283   | 1.32075056385483    | \n",
       "| cow                 | 0.758819927901333   | 0.75034631623543    | \n",
       "| cat                 | -1.74469475521039   | 0.745999848608218   | \n",
       "| dog                 | 0.597896542941487   | 1.06423572730028    | \n",
       "| mouse               | -0.781546223270438  | 0.278483011283731   | \n",
       "| snail               | 0.144867732812080   | 0.13667350451369    | \n",
       "| cow                 | 0.241567282087582   | 0.416148511483313   | \n",
       "| cat                 | 1.11768001313257    | -0.409486227223678  | \n",
       "| dog                 | -1.56747306660403   | -0.498650163350351  | \n",
       "| mouse               | -1.48919129686801   | 0.336265242563881   | \n",
       "| snail               | 0.465636710839489   | 0.78287418701636    | \n",
       "| cow                 | -1.05958565635749   | 0.930842906910311   | \n",
       "| cat                 | -0.300744578910666  | -0.50388618656645   | \n",
       "| dog                 | -0.39474131808107   | 1.48188355899607    | \n",
       "| mouse               | 0.388513220661986   | -0.238110944253783  | \n",
       "| snail               | 0.271351330029639   | 1.63947920298937    | \n",
       "| cow                 | 0.692941570451473   | 0.433435752372299   | \n",
       "| cat                 | -1.15615746141623   | 0.909844259362305   | \n",
       "| dog                 | -0.0152971654982683 | -1.49686563700121   | \n",
       "| mouse               | -0.571519826149061  | 0.868345054560426   | \n",
       "| snail               | -1.23544688583013   | -0.305068316537632  | \n",
       "| cow                 | -0.970453349741847  | 1.24792203826773    | \n",
       "| cat                 | 0.89491171958216    | 0.291711022930925   | \n",
       "| dog                 | -0.570532832863229  | 1.11923838220852    | \n",
       "| mouse               | 1.01892247690068    | -1.31579860356526   | \n",
       "| snail               | 0.606740171076296   | -1.07176398692570   | \n",
       "| cow                 | 0.366796551380125   | 0.155451870369877   | \n",
       "| cat                 | -1.19177872538755   | 0.212603949261034   | \n",
       "| dog                 | 0.611122981466123   | 0.672995098818961   | \n",
       "| mouse               | -0.357303995659131  | -0.607612144219023  | \n",
       "| snail               | -1.05252469861475   | 0.950347043307238   | \n",
       "| cow                 | 0.11735244193594    | 0.210217561561932   | \n",
       "\n",
       "\n"
      ],
      "text/plain": [
       "      [,1]  [,2]                [,3]              \n",
       " [1,] cat   -0.635891035389401  2.17275908036928  \n",
       " [2,] dog   0.173664313513516   -0.502444826795603\n",
       " [3,] mouse -0.738705303972508  -0.785112404720335\n",
       " [4,] snail -0.199310683368589  0.12779845004012  \n",
       " [5,] cow   0.560096498439368   -1.45489431156920 \n",
       " [6,] cat   0.476057231758322   1.54103504594794  \n",
       " [7,] dog   0.228317329646571   1.29777787415815  \n",
       " [8,] mouse -1.18275223739803   -0.463536102488631\n",
       " [9,] snail 1.02249002211905    1.30175834167891  \n",
       "[10,] cow   -0.641281116637957  0.603022609817419 \n",
       "[11,] cat   -0.43208043732055   -1.72893656704963 \n",
       "[12,] dog   0.472970950275773   2.37310058567277  \n",
       "[13,] mouse 0.769696575327012   -1.93723583839602 \n",
       "[14,] snail -0.41015544552421   -0.69261058907979 \n",
       "[15,] cow   0.969251845276534   -1.94718744135579 \n",
       "[16,] cat   -0.0018733964075376 1.48619630287141  \n",
       "[17,] dog   -1.53426824328322   -1.80570196917482 \n",
       "[18,] mouse -0.130464885157510  -1.36783580291419 \n",
       "[19,] snail 0.202493310092283   1.32075056385483  \n",
       "[20,] cow   0.758819927901333   0.75034631623543  \n",
       "[21,] cat   -1.74469475521039   0.745999848608218 \n",
       "[22,] dog   0.597896542941487   1.06423572730028  \n",
       "[23,] mouse -0.781546223270438  0.278483011283731 \n",
       "[24,] snail 0.144867732812080   0.13667350451369  \n",
       "[25,] cow   0.241567282087582   0.416148511483313 \n",
       "[26,] cat   1.11768001313257    -0.409486227223678\n",
       "[27,] dog   -1.56747306660403   -0.498650163350351\n",
       "[28,] mouse -1.48919129686801   0.336265242563881 \n",
       "[29,] snail 0.465636710839489   0.78287418701636  \n",
       "[30,] cow   -1.05958565635749   0.930842906910311 \n",
       "[31,] cat   -0.300744578910666  -0.50388618656645 \n",
       "[32,] dog   -0.39474131808107   1.48188355899607  \n",
       "[33,] mouse 0.388513220661986   -0.238110944253783\n",
       "[34,] snail 0.271351330029639   1.63947920298937  \n",
       "[35,] cow   0.692941570451473   0.433435752372299 \n",
       "[36,] cat   -1.15615746141623   0.909844259362305 \n",
       "[37,] dog   -0.0152971654982683 -1.49686563700121 \n",
       "[38,] mouse -0.571519826149061  0.868345054560426 \n",
       "[39,] snail -1.23544688583013   -0.305068316537632\n",
       "[40,] cow   -0.970453349741847  1.24792203826773  \n",
       "[41,] cat   0.89491171958216    0.291711022930925 \n",
       "[42,] dog   -0.570532832863229  1.11923838220852  \n",
       "[43,] mouse 1.01892247690068    -1.31579860356526 \n",
       "[44,] snail 0.606740171076296   -1.07176398692570 \n",
       "[45,] cow   0.366796551380125   0.155451870369877 \n",
       "[46,] cat   -1.19177872538755   0.212603949261034 \n",
       "[47,] dog   0.611122981466123   0.672995098818961 \n",
       "[48,] mouse -0.357303995659131  -0.607612144219023\n",
       "[49,] snail -1.05252469861475   0.950347043307238 \n",
       "[50,] cow   0.11735244193594    0.210217561561932 "
      ]
     },
     "metadata": {},
     "output_type": "display_data"
    }
   ],
   "source": [
    "m2 <- t( matrix(scan(\"../data/Short_introduction_R/datafile_3col_nb_text.txt\",what=\"\"),nrow=3) )\n",
    "m2"
   ]
  },
  {
   "cell_type": "markdown",
   "metadata": {},
   "source": [
    "Note that this interprets everything as text even though we have two columns of numbers.  \n",
    "If the first column corresponds to some description of the data we can assign it to the variable *label1* as follows:"
   ]
  },
  {
   "cell_type": "code",
   "execution_count": 37,
   "metadata": {},
   "outputs": [
    {
     "data": {
      "text/html": [
       "<ol class=list-inline>\n",
       "\t<li>'cat'</li>\n",
       "\t<li>'dog'</li>\n",
       "\t<li>'mouse'</li>\n",
       "\t<li>'snail'</li>\n",
       "\t<li>'cow'</li>\n",
       "\t<li>'cat'</li>\n",
       "\t<li>'dog'</li>\n",
       "\t<li>'mouse'</li>\n",
       "\t<li>'snail'</li>\n",
       "\t<li>'cow'</li>\n",
       "\t<li>'cat'</li>\n",
       "\t<li>'dog'</li>\n",
       "\t<li>'mouse'</li>\n",
       "\t<li>'snail'</li>\n",
       "\t<li>'cow'</li>\n",
       "\t<li>'cat'</li>\n",
       "\t<li>'dog'</li>\n",
       "\t<li>'mouse'</li>\n",
       "\t<li>'snail'</li>\n",
       "\t<li>'cow'</li>\n",
       "\t<li>'cat'</li>\n",
       "\t<li>'dog'</li>\n",
       "\t<li>'mouse'</li>\n",
       "\t<li>'snail'</li>\n",
       "\t<li>'cow'</li>\n",
       "\t<li>'cat'</li>\n",
       "\t<li>'dog'</li>\n",
       "\t<li>'mouse'</li>\n",
       "\t<li>'snail'</li>\n",
       "\t<li>'cow'</li>\n",
       "\t<li>'cat'</li>\n",
       "\t<li>'dog'</li>\n",
       "\t<li>'mouse'</li>\n",
       "\t<li>'snail'</li>\n",
       "\t<li>'cow'</li>\n",
       "\t<li>'cat'</li>\n",
       "\t<li>'dog'</li>\n",
       "\t<li>'mouse'</li>\n",
       "\t<li>'snail'</li>\n",
       "\t<li>'cow'</li>\n",
       "\t<li>'cat'</li>\n",
       "\t<li>'dog'</li>\n",
       "\t<li>'mouse'</li>\n",
       "\t<li>'snail'</li>\n",
       "\t<li>'cow'</li>\n",
       "\t<li>'cat'</li>\n",
       "\t<li>'dog'</li>\n",
       "\t<li>'mouse'</li>\n",
       "\t<li>'snail'</li>\n",
       "\t<li>'cow'</li>\n",
       "</ol>\n"
      ],
      "text/latex": [
       "\\begin{enumerate*}\n",
       "\\item 'cat'\n",
       "\\item 'dog'\n",
       "\\item 'mouse'\n",
       "\\item 'snail'\n",
       "\\item 'cow'\n",
       "\\item 'cat'\n",
       "\\item 'dog'\n",
       "\\item 'mouse'\n",
       "\\item 'snail'\n",
       "\\item 'cow'\n",
       "\\item 'cat'\n",
       "\\item 'dog'\n",
       "\\item 'mouse'\n",
       "\\item 'snail'\n",
       "\\item 'cow'\n",
       "\\item 'cat'\n",
       "\\item 'dog'\n",
       "\\item 'mouse'\n",
       "\\item 'snail'\n",
       "\\item 'cow'\n",
       "\\item 'cat'\n",
       "\\item 'dog'\n",
       "\\item 'mouse'\n",
       "\\item 'snail'\n",
       "\\item 'cow'\n",
       "\\item 'cat'\n",
       "\\item 'dog'\n",
       "\\item 'mouse'\n",
       "\\item 'snail'\n",
       "\\item 'cow'\n",
       "\\item 'cat'\n",
       "\\item 'dog'\n",
       "\\item 'mouse'\n",
       "\\item 'snail'\n",
       "\\item 'cow'\n",
       "\\item 'cat'\n",
       "\\item 'dog'\n",
       "\\item 'mouse'\n",
       "\\item 'snail'\n",
       "\\item 'cow'\n",
       "\\item 'cat'\n",
       "\\item 'dog'\n",
       "\\item 'mouse'\n",
       "\\item 'snail'\n",
       "\\item 'cow'\n",
       "\\item 'cat'\n",
       "\\item 'dog'\n",
       "\\item 'mouse'\n",
       "\\item 'snail'\n",
       "\\item 'cow'\n",
       "\\end{enumerate*}\n"
      ],
      "text/markdown": [
       "1. 'cat'\n",
       "2. 'dog'\n",
       "3. 'mouse'\n",
       "4. 'snail'\n",
       "5. 'cow'\n",
       "6. 'cat'\n",
       "7. 'dog'\n",
       "8. 'mouse'\n",
       "9. 'snail'\n",
       "10. 'cow'\n",
       "11. 'cat'\n",
       "12. 'dog'\n",
       "13. 'mouse'\n",
       "14. 'snail'\n",
       "15. 'cow'\n",
       "16. 'cat'\n",
       "17. 'dog'\n",
       "18. 'mouse'\n",
       "19. 'snail'\n",
       "20. 'cow'\n",
       "21. 'cat'\n",
       "22. 'dog'\n",
       "23. 'mouse'\n",
       "24. 'snail'\n",
       "25. 'cow'\n",
       "26. 'cat'\n",
       "27. 'dog'\n",
       "28. 'mouse'\n",
       "29. 'snail'\n",
       "30. 'cow'\n",
       "31. 'cat'\n",
       "32. 'dog'\n",
       "33. 'mouse'\n",
       "34. 'snail'\n",
       "35. 'cow'\n",
       "36. 'cat'\n",
       "37. 'dog'\n",
       "38. 'mouse'\n",
       "39. 'snail'\n",
       "40. 'cow'\n",
       "41. 'cat'\n",
       "42. 'dog'\n",
       "43. 'mouse'\n",
       "44. 'snail'\n",
       "45. 'cow'\n",
       "46. 'cat'\n",
       "47. 'dog'\n",
       "48. 'mouse'\n",
       "49. 'snail'\n",
       "50. 'cow'\n",
       "\n",
       "\n"
      ],
      "text/plain": [
       " [1] \"cat\"   \"dog\"   \"mouse\" \"snail\" \"cow\"   \"cat\"   \"dog\"   \"mouse\" \"snail\"\n",
       "[10] \"cow\"   \"cat\"   \"dog\"   \"mouse\" \"snail\" \"cow\"   \"cat\"   \"dog\"   \"mouse\"\n",
       "[19] \"snail\" \"cow\"   \"cat\"   \"dog\"   \"mouse\" \"snail\" \"cow\"   \"cat\"   \"dog\"  \n",
       "[28] \"mouse\" \"snail\" \"cow\"   \"cat\"   \"dog\"   \"mouse\" \"snail\" \"cow\"   \"cat\"  \n",
       "[37] \"dog\"   \"mouse\" \"snail\" \"cow\"   \"cat\"   \"dog\"   \"mouse\" \"snail\" \"cow\"  \n",
       "[46] \"cat\"   \"dog\"   \"mouse\" \"snail\" \"cow\"  "
      ]
     },
     "metadata": {},
     "output_type": "display_data"
    }
   ],
   "source": [
    "label1 <- m2[,1]\n",
    "label1"
   ]
  },
  {
   "cell_type": "markdown",
   "metadata": {},
   "source": [
    "If we wish to use the second and third column as numerical data we need to create a new variable using the *as.numeric()* function which converts data into the \"numeric\" mode (when possible)"
   ]
  },
  {
   "cell_type": "code",
   "execution_count": 38,
   "metadata": {},
   "outputs": [
    {
     "data": {
      "text/html": [
       "<ol class=list-inline>\n",
       "\t<li>-0.635891035389401</li>\n",
       "\t<li>0.173664313513516</li>\n",
       "\t<li>-0.738705303972508</li>\n",
       "\t<li>-0.199310683368589</li>\n",
       "\t<li>0.560096498439368</li>\n",
       "\t<li>0.476057231758322</li>\n",
       "\t<li>0.228317329646571</li>\n",
       "\t<li>-1.18275223739803</li>\n",
       "\t<li>1.02249002211905</li>\n",
       "\t<li>-0.641281116637957</li>\n",
       "\t<li>-0.43208043732055</li>\n",
       "\t<li>0.472970950275773</li>\n",
       "\t<li>0.769696575327012</li>\n",
       "\t<li>-0.41015544552421</li>\n",
       "\t<li>0.969251845276534</li>\n",
       "\t<li>-0.0018733964075376</li>\n",
       "\t<li>-1.53426824328322</li>\n",
       "\t<li>-0.13046488515751</li>\n",
       "\t<li>0.202493310092283</li>\n",
       "\t<li>0.758819927901333</li>\n",
       "\t<li>-1.74469475521039</li>\n",
       "\t<li>0.597896542941487</li>\n",
       "\t<li>-0.781546223270438</li>\n",
       "\t<li>0.14486773281208</li>\n",
       "\t<li>0.241567282087582</li>\n",
       "\t<li>1.11768001313257</li>\n",
       "\t<li>-1.56747306660403</li>\n",
       "\t<li>-1.48919129686801</li>\n",
       "\t<li>0.465636710839489</li>\n",
       "\t<li>-1.05958565635749</li>\n",
       "\t<li>-0.300744578910666</li>\n",
       "\t<li>-0.39474131808107</li>\n",
       "\t<li>0.388513220661986</li>\n",
       "\t<li>0.271351330029639</li>\n",
       "\t<li>0.692941570451473</li>\n",
       "\t<li>-1.15615746141623</li>\n",
       "\t<li>-0.0152971654982683</li>\n",
       "\t<li>-0.571519826149061</li>\n",
       "\t<li>-1.23544688583013</li>\n",
       "\t<li>-0.970453349741847</li>\n",
       "\t<li>0.89491171958216</li>\n",
       "\t<li>-0.570532832863229</li>\n",
       "\t<li>1.01892247690068</li>\n",
       "\t<li>0.606740171076296</li>\n",
       "\t<li>0.366796551380125</li>\n",
       "\t<li>-1.19177872538755</li>\n",
       "\t<li>0.611122981466123</li>\n",
       "\t<li>-0.357303995659131</li>\n",
       "\t<li>-1.05252469861475</li>\n",
       "\t<li>0.11735244193594</li>\n",
       "</ol>\n"
      ],
      "text/latex": [
       "\\begin{enumerate*}\n",
       "\\item -0.635891035389401\n",
       "\\item 0.173664313513516\n",
       "\\item -0.738705303972508\n",
       "\\item -0.199310683368589\n",
       "\\item 0.560096498439368\n",
       "\\item 0.476057231758322\n",
       "\\item 0.228317329646571\n",
       "\\item -1.18275223739803\n",
       "\\item 1.02249002211905\n",
       "\\item -0.641281116637957\n",
       "\\item -0.43208043732055\n",
       "\\item 0.472970950275773\n",
       "\\item 0.769696575327012\n",
       "\\item -0.41015544552421\n",
       "\\item 0.969251845276534\n",
       "\\item -0.0018733964075376\n",
       "\\item -1.53426824328322\n",
       "\\item -0.13046488515751\n",
       "\\item 0.202493310092283\n",
       "\\item 0.758819927901333\n",
       "\\item -1.74469475521039\n",
       "\\item 0.597896542941487\n",
       "\\item -0.781546223270438\n",
       "\\item 0.14486773281208\n",
       "\\item 0.241567282087582\n",
       "\\item 1.11768001313257\n",
       "\\item -1.56747306660403\n",
       "\\item -1.48919129686801\n",
       "\\item 0.465636710839489\n",
       "\\item -1.05958565635749\n",
       "\\item -0.300744578910666\n",
       "\\item -0.39474131808107\n",
       "\\item 0.388513220661986\n",
       "\\item 0.271351330029639\n",
       "\\item 0.692941570451473\n",
       "\\item -1.15615746141623\n",
       "\\item -0.0152971654982683\n",
       "\\item -0.571519826149061\n",
       "\\item -1.23544688583013\n",
       "\\item -0.970453349741847\n",
       "\\item 0.89491171958216\n",
       "\\item -0.570532832863229\n",
       "\\item 1.01892247690068\n",
       "\\item 0.606740171076296\n",
       "\\item 0.366796551380125\n",
       "\\item -1.19177872538755\n",
       "\\item 0.611122981466123\n",
       "\\item -0.357303995659131\n",
       "\\item -1.05252469861475\n",
       "\\item 0.11735244193594\n",
       "\\end{enumerate*}\n"
      ],
      "text/markdown": [
       "1. -0.635891035389401\n",
       "2. 0.173664313513516\n",
       "3. -0.738705303972508\n",
       "4. -0.199310683368589\n",
       "5. 0.560096498439368\n",
       "6. 0.476057231758322\n",
       "7. 0.228317329646571\n",
       "8. -1.18275223739803\n",
       "9. 1.02249002211905\n",
       "10. -0.641281116637957\n",
       "11. -0.43208043732055\n",
       "12. 0.472970950275773\n",
       "13. 0.769696575327012\n",
       "14. -0.41015544552421\n",
       "15. 0.969251845276534\n",
       "16. -0.0018733964075376\n",
       "17. -1.53426824328322\n",
       "18. -0.13046488515751\n",
       "19. 0.202493310092283\n",
       "20. 0.758819927901333\n",
       "21. -1.74469475521039\n",
       "22. 0.597896542941487\n",
       "23. -0.781546223270438\n",
       "24. 0.14486773281208\n",
       "25. 0.241567282087582\n",
       "26. 1.11768001313257\n",
       "27. -1.56747306660403\n",
       "28. -1.48919129686801\n",
       "29. 0.465636710839489\n",
       "30. -1.05958565635749\n",
       "31. -0.300744578910666\n",
       "32. -0.39474131808107\n",
       "33. 0.388513220661986\n",
       "34. 0.271351330029639\n",
       "35. 0.692941570451473\n",
       "36. -1.15615746141623\n",
       "37. -0.0152971654982683\n",
       "38. -0.571519826149061\n",
       "39. -1.23544688583013\n",
       "40. -0.970453349741847\n",
       "41. 0.89491171958216\n",
       "42. -0.570532832863229\n",
       "43. 1.01892247690068\n",
       "44. 0.606740171076296\n",
       "45. 0.366796551380125\n",
       "46. -1.19177872538755\n",
       "47. 0.611122981466123\n",
       "48. -0.357303995659131\n",
       "49. -1.05252469861475\n",
       "50. 0.11735244193594\n",
       "\n",
       "\n"
      ],
      "text/plain": [
       " [1] -0.635891035  0.173664314 -0.738705304 -0.199310683  0.560096498\n",
       " [6]  0.476057232  0.228317330 -1.182752237  1.022490022 -0.641281117\n",
       "[11] -0.432080437  0.472970950  0.769696575 -0.410155446  0.969251845\n",
       "[16] -0.001873396 -1.534268243 -0.130464885  0.202493310  0.758819928\n",
       "[21] -1.744694755  0.597896543 -0.781546223  0.144867733  0.241567282\n",
       "[26]  1.117680013 -1.567473067 -1.489191297  0.465636711 -1.059585656\n",
       "[31] -0.300744579 -0.394741318  0.388513221  0.271351330  0.692941570\n",
       "[36] -1.156157461 -0.015297165 -0.571519826 -1.235446886 -0.970453350\n",
       "[41]  0.894911720 -0.570532833  1.018922477  0.606740171  0.366796551\n",
       "[46] -1.191778725  0.611122981 -0.357303996 -1.052524699  0.117352442"
      ]
     },
     "metadata": {},
     "output_type": "display_data"
    },
    {
     "data": {
      "text/html": [
       "<ol class=list-inline>\n",
       "\t<li>2.17275908036928</li>\n",
       "\t<li>-0.502444826795603</li>\n",
       "\t<li>-0.785112404720335</li>\n",
       "\t<li>0.12779845004012</li>\n",
       "\t<li>-1.4548943115692</li>\n",
       "\t<li>1.54103504594794</li>\n",
       "\t<li>1.29777787415815</li>\n",
       "\t<li>-0.463536102488631</li>\n",
       "\t<li>1.30175834167891</li>\n",
       "\t<li>0.603022609817419</li>\n",
       "\t<li>-1.72893656704963</li>\n",
       "\t<li>2.37310058567277</li>\n",
       "\t<li>-1.93723583839602</li>\n",
       "\t<li>-0.69261058907979</li>\n",
       "\t<li>-1.94718744135579</li>\n",
       "\t<li>1.48619630287141</li>\n",
       "\t<li>-1.80570196917482</li>\n",
       "\t<li>-1.36783580291419</li>\n",
       "\t<li>1.32075056385483</li>\n",
       "\t<li>0.75034631623543</li>\n",
       "\t<li>0.745999848608218</li>\n",
       "\t<li>1.06423572730028</li>\n",
       "\t<li>0.278483011283731</li>\n",
       "\t<li>0.13667350451369</li>\n",
       "\t<li>0.416148511483313</li>\n",
       "\t<li>-0.409486227223678</li>\n",
       "\t<li>-0.498650163350351</li>\n",
       "\t<li>0.336265242563881</li>\n",
       "\t<li>0.78287418701636</li>\n",
       "\t<li>0.930842906910311</li>\n",
       "\t<li>-0.50388618656645</li>\n",
       "\t<li>1.48188355899607</li>\n",
       "\t<li>-0.238110944253783</li>\n",
       "\t<li>1.63947920298937</li>\n",
       "\t<li>0.433435752372299</li>\n",
       "\t<li>0.909844259362305</li>\n",
       "\t<li>-1.49686563700121</li>\n",
       "\t<li>0.868345054560426</li>\n",
       "\t<li>-0.305068316537632</li>\n",
       "\t<li>1.24792203826773</li>\n",
       "\t<li>0.291711022930925</li>\n",
       "\t<li>1.11923838220852</li>\n",
       "\t<li>-1.31579860356526</li>\n",
       "\t<li>-1.0717639869257</li>\n",
       "\t<li>0.155451870369877</li>\n",
       "\t<li>0.212603949261034</li>\n",
       "\t<li>0.672995098818961</li>\n",
       "\t<li>-0.607612144219023</li>\n",
       "\t<li>0.950347043307238</li>\n",
       "\t<li>0.210217561561932</li>\n",
       "</ol>\n"
      ],
      "text/latex": [
       "\\begin{enumerate*}\n",
       "\\item 2.17275908036928\n",
       "\\item -0.502444826795603\n",
       "\\item -0.785112404720335\n",
       "\\item 0.12779845004012\n",
       "\\item -1.4548943115692\n",
       "\\item 1.54103504594794\n",
       "\\item 1.29777787415815\n",
       "\\item -0.463536102488631\n",
       "\\item 1.30175834167891\n",
       "\\item 0.603022609817419\n",
       "\\item -1.72893656704963\n",
       "\\item 2.37310058567277\n",
       "\\item -1.93723583839602\n",
       "\\item -0.69261058907979\n",
       "\\item -1.94718744135579\n",
       "\\item 1.48619630287141\n",
       "\\item -1.80570196917482\n",
       "\\item -1.36783580291419\n",
       "\\item 1.32075056385483\n",
       "\\item 0.75034631623543\n",
       "\\item 0.745999848608218\n",
       "\\item 1.06423572730028\n",
       "\\item 0.278483011283731\n",
       "\\item 0.13667350451369\n",
       "\\item 0.416148511483313\n",
       "\\item -0.409486227223678\n",
       "\\item -0.498650163350351\n",
       "\\item 0.336265242563881\n",
       "\\item 0.78287418701636\n",
       "\\item 0.930842906910311\n",
       "\\item -0.50388618656645\n",
       "\\item 1.48188355899607\n",
       "\\item -0.238110944253783\n",
       "\\item 1.63947920298937\n",
       "\\item 0.433435752372299\n",
       "\\item 0.909844259362305\n",
       "\\item -1.49686563700121\n",
       "\\item 0.868345054560426\n",
       "\\item -0.305068316537632\n",
       "\\item 1.24792203826773\n",
       "\\item 0.291711022930925\n",
       "\\item 1.11923838220852\n",
       "\\item -1.31579860356526\n",
       "\\item -1.0717639869257\n",
       "\\item 0.155451870369877\n",
       "\\item 0.212603949261034\n",
       "\\item 0.672995098818961\n",
       "\\item -0.607612144219023\n",
       "\\item 0.950347043307238\n",
       "\\item 0.210217561561932\n",
       "\\end{enumerate*}\n"
      ],
      "text/markdown": [
       "1. 2.17275908036928\n",
       "2. -0.502444826795603\n",
       "3. -0.785112404720335\n",
       "4. 0.12779845004012\n",
       "5. -1.4548943115692\n",
       "6. 1.54103504594794\n",
       "7. 1.29777787415815\n",
       "8. -0.463536102488631\n",
       "9. 1.30175834167891\n",
       "10. 0.603022609817419\n",
       "11. -1.72893656704963\n",
       "12. 2.37310058567277\n",
       "13. -1.93723583839602\n",
       "14. -0.69261058907979\n",
       "15. -1.94718744135579\n",
       "16. 1.48619630287141\n",
       "17. -1.80570196917482\n",
       "18. -1.36783580291419\n",
       "19. 1.32075056385483\n",
       "20. 0.75034631623543\n",
       "21. 0.745999848608218\n",
       "22. 1.06423572730028\n",
       "23. 0.278483011283731\n",
       "24. 0.13667350451369\n",
       "25. 0.416148511483313\n",
       "26. -0.409486227223678\n",
       "27. -0.498650163350351\n",
       "28. 0.336265242563881\n",
       "29. 0.78287418701636\n",
       "30. 0.930842906910311\n",
       "31. -0.50388618656645\n",
       "32. 1.48188355899607\n",
       "33. -0.238110944253783\n",
       "34. 1.63947920298937\n",
       "35. 0.433435752372299\n",
       "36. 0.909844259362305\n",
       "37. -1.49686563700121\n",
       "38. 0.868345054560426\n",
       "39. -0.305068316537632\n",
       "40. 1.24792203826773\n",
       "41. 0.291711022930925\n",
       "42. 1.11923838220852\n",
       "43. -1.31579860356526\n",
       "44. -1.0717639869257\n",
       "45. 0.155451870369877\n",
       "46. 0.212603949261034\n",
       "47. 0.672995098818961\n",
       "48. -0.607612144219023\n",
       "49. 0.950347043307238\n",
       "50. 0.210217561561932\n",
       "\n",
       "\n"
      ],
      "text/plain": [
       " [1]  2.1727591 -0.5024448 -0.7851124  0.1277985 -1.4548943  1.5410350\n",
       " [7]  1.2977779 -0.4635361  1.3017583  0.6030226 -1.7289366  2.3731006\n",
       "[13] -1.9372358 -0.6926106 -1.9471874  1.4861963 -1.8057020 -1.3678358\n",
       "[19]  1.3207506  0.7503463  0.7459998  1.0642357  0.2784830  0.1366735\n",
       "[25]  0.4161485 -0.4094862 -0.4986502  0.3362652  0.7828742  0.9308429\n",
       "[31] -0.5038862  1.4818836 -0.2381109  1.6394792  0.4334358  0.9098443\n",
       "[37] -1.4968656  0.8683451 -0.3050683  1.2479220  0.2917110  1.1192384\n",
       "[43] -1.3157986 -1.0717640  0.1554519  0.2126039  0.6729951 -0.6076121\n",
       "[49]  0.9503470  0.2102176"
      ]
     },
     "metadata": {},
     "output_type": "display_data"
    }
   ],
   "source": [
    "var2 <- as.numeric(m2[,2])\n",
    "var3 <- as.numeric(m2[,3])\n",
    "var2 ; var3"
   ]
  },
  {
   "cell_type": "markdown",
   "metadata": {},
   "source": [
    "Now that we have seen some aspects of vector and matrix manipulations and been able to input text file, we can do some simple calculations."
   ]
  },
  {
   "cell_type": "code",
   "execution_count": 39,
   "metadata": {},
   "outputs": [
    {
     "data": {
      "text/html": [
       "<ol class=list-inline>\n",
       "\t<li>1</li>\n",
       "\t<li>2</li>\n",
       "\t<li>3</li>\n",
       "\t<li>4</li>\n",
       "\t<li>5</li>\n",
       "\t<li>6</li>\n",
       "</ol>\n"
      ],
      "text/latex": [
       "\\begin{enumerate*}\n",
       "\\item 1\n",
       "\\item 2\n",
       "\\item 3\n",
       "\\item 4\n",
       "\\item 5\n",
       "\\item 6\n",
       "\\end{enumerate*}\n"
      ],
      "text/markdown": [
       "1. 1\n",
       "2. 2\n",
       "3. 3\n",
       "4. 4\n",
       "5. 5\n",
       "6. 6\n",
       "\n",
       "\n"
      ],
      "text/plain": [
       "[1] 1 2 3 4 5 6"
      ]
     },
     "metadata": {},
     "output_type": "display_data"
    },
    {
     "data": {
      "text/html": [
       "<ol class=list-inline>\n",
       "\t<li>1</li>\n",
       "\t<li>2</li>\n",
       "\t<li>3</li>\n",
       "\t<li>4</li>\n",
       "\t<li>5</li>\n",
       "\t<li>6</li>\n",
       "</ol>\n"
      ],
      "text/latex": [
       "\\begin{enumerate*}\n",
       "\\item 1\n",
       "\\item 2\n",
       "\\item 3\n",
       "\\item 4\n",
       "\\item 5\n",
       "\\item 6\n",
       "\\end{enumerate*}\n"
      ],
      "text/markdown": [
       "1. 1\n",
       "2. 2\n",
       "3. 3\n",
       "4. 4\n",
       "5. 5\n",
       "6. 6\n",
       "\n",
       "\n"
      ],
      "text/plain": [
       "[1] 1 2 3 4 5 6"
      ]
     },
     "metadata": {},
     "output_type": "display_data"
    },
    {
     "data": {
      "text/html": [
       "<ol class=list-inline>\n",
       "\t<li>1</li>\n",
       "\t<li>2</li>\n",
       "\t<li>3</li>\n",
       "\t<li>4</li>\n",
       "\t<li>5</li>\n",
       "\t<li>6</li>\n",
       "\t<li>1</li>\n",
       "\t<li>2</li>\n",
       "\t<li>3</li>\n",
       "\t<li>4</li>\n",
       "\t<li>5</li>\n",
       "\t<li>6</li>\n",
       "</ol>\n"
      ],
      "text/latex": [
       "\\begin{enumerate*}\n",
       "\\item 1\n",
       "\\item 2\n",
       "\\item 3\n",
       "\\item 4\n",
       "\\item 5\n",
       "\\item 6\n",
       "\\item 1\n",
       "\\item 2\n",
       "\\item 3\n",
       "\\item 4\n",
       "\\item 5\n",
       "\\item 6\n",
       "\\end{enumerate*}\n"
      ],
      "text/markdown": [
       "1. 1\n",
       "2. 2\n",
       "3. 3\n",
       "4. 4\n",
       "5. 5\n",
       "6. 6\n",
       "7. 1\n",
       "8. 2\n",
       "9. 3\n",
       "10. 4\n",
       "11. 5\n",
       "12. 6\n",
       "\n",
       "\n"
      ],
      "text/plain": [
       " [1] 1 2 3 4 5 6 1 2 3 4 5 6"
      ]
     },
     "metadata": {},
     "output_type": "display_data"
    },
    {
     "data": {
      "text/html": [
       "<ol class=list-inline>\n",
       "\t<li>2</li>\n",
       "\t<li>4</li>\n",
       "\t<li>6</li>\n",
       "\t<li>8</li>\n",
       "\t<li>10</li>\n",
       "\t<li>12</li>\n",
       "\t<li>2</li>\n",
       "\t<li>4</li>\n",
       "\t<li>6</li>\n",
       "\t<li>8</li>\n",
       "\t<li>10</li>\n",
       "\t<li>12</li>\n",
       "</ol>\n"
      ],
      "text/latex": [
       "\\begin{enumerate*}\n",
       "\\item 2\n",
       "\\item 4\n",
       "\\item 6\n",
       "\\item 8\n",
       "\\item 10\n",
       "\\item 12\n",
       "\\item 2\n",
       "\\item 4\n",
       "\\item 6\n",
       "\\item 8\n",
       "\\item 10\n",
       "\\item 12\n",
       "\\end{enumerate*}\n"
      ],
      "text/markdown": [
       "1. 2\n",
       "2. 4\n",
       "3. 6\n",
       "4. 8\n",
       "5. 10\n",
       "6. 12\n",
       "7. 2\n",
       "8. 4\n",
       "9. 6\n",
       "10. 8\n",
       "11. 10\n",
       "12. 12\n",
       "\n",
       "\n"
      ],
      "text/plain": [
       " [1]  2  4  6  8 10 12  2  4  6  8 10 12"
      ]
     },
     "metadata": {},
     "output_type": "display_data"
    }
   ],
   "source": [
    "x ; y\n",
    "y <- c(y,y) ; y\n",
    "x+y"
   ]
  },
  {
   "cell_type": "markdown",
   "metadata": {},
   "source": [
    "An important rule in R is the recycling rule which means that when you add vectors of different length, the shorter is increased in size, recycling elements until it reaches the length of the longest vector.  \n",
    "This can be dangerous, but this can also be extremely useful.  \n",
    "One advantage is that if you wish to add 25 to vector *x* or *y* then 25 is automatically increased in size so that all elements of x or y are incremented.\n"
   ]
  },
  {
   "cell_type": "code",
   "execution_count": 40,
   "metadata": {},
   "outputs": [
    {
     "data": {
      "text/html": [
       "<ol class=list-inline>\n",
       "\t<li>1</li>\n",
       "\t<li>2</li>\n",
       "\t<li>3</li>\n",
       "\t<li>4</li>\n",
       "\t<li>5</li>\n",
       "\t<li>6</li>\n",
       "</ol>\n"
      ],
      "text/latex": [
       "\\begin{enumerate*}\n",
       "\\item 1\n",
       "\\item 2\n",
       "\\item 3\n",
       "\\item 4\n",
       "\\item 5\n",
       "\\item 6\n",
       "\\end{enumerate*}\n"
      ],
      "text/markdown": [
       "1. 1\n",
       "2. 2\n",
       "3. 3\n",
       "4. 4\n",
       "5. 5\n",
       "6. 6\n",
       "\n",
       "\n"
      ],
      "text/plain": [
       "[1] 1 2 3 4 5 6"
      ]
     },
     "metadata": {},
     "output_type": "display_data"
    },
    {
     "data": {
      "text/html": [
       "<ol class=list-inline>\n",
       "\t<li>26</li>\n",
       "\t<li>27</li>\n",
       "\t<li>28</li>\n",
       "\t<li>29</li>\n",
       "\t<li>30</li>\n",
       "\t<li>31</li>\n",
       "</ol>\n"
      ],
      "text/latex": [
       "\\begin{enumerate*}\n",
       "\\item 26\n",
       "\\item 27\n",
       "\\item 28\n",
       "\\item 29\n",
       "\\item 30\n",
       "\\item 31\n",
       "\\end{enumerate*}\n"
      ],
      "text/markdown": [
       "1. 26\n",
       "2. 27\n",
       "3. 28\n",
       "4. 29\n",
       "5. 30\n",
       "6. 31\n",
       "\n",
       "\n"
      ],
      "text/plain": [
       "[1] 26 27 28 29 30 31"
      ]
     },
     "metadata": {},
     "output_type": "display_data"
    }
   ],
   "source": [
    "x ; x + 25"
   ]
  },
  {
   "cell_type": "markdown",
   "metadata": {},
   "source": [
    "If you square a vector of numbers and assign it to another vector all elements are squared."
   ]
  },
  {
   "cell_type": "code",
   "execution_count": 41,
   "metadata": {},
   "outputs": [
    {
     "data": {
      "text/html": [
       "<ol class=list-inline>\n",
       "\t<li>1</li>\n",
       "\t<li>4</li>\n",
       "\t<li>9</li>\n",
       "\t<li>16</li>\n",
       "\t<li>25</li>\n",
       "\t<li>36</li>\n",
       "\t<li>49</li>\n",
       "\t<li>64</li>\n",
       "\t<li>81</li>\n",
       "\t<li>100</li>\n",
       "\t<li>121</li>\n",
       "\t<li>144</li>\n",
       "\t<li>169</li>\n",
       "\t<li>196</li>\n",
       "\t<li>225</li>\n",
       "\t<li>256</li>\n",
       "\t<li>289</li>\n",
       "\t<li>324</li>\n",
       "\t<li>361</li>\n",
       "\t<li>400</li>\n",
       "\t<li>441</li>\n",
       "\t<li>484</li>\n",
       "\t<li>529</li>\n",
       "\t<li>576</li>\n",
       "\t<li>625</li>\n",
       "\t<li>676</li>\n",
       "\t<li>729</li>\n",
       "\t<li>784</li>\n",
       "\t<li>841</li>\n",
       "\t<li>900</li>\n",
       "\t<li>961</li>\n",
       "\t<li>1024</li>\n",
       "\t<li>1089</li>\n",
       "\t<li>1156</li>\n",
       "\t<li>1225</li>\n",
       "\t<li>1296</li>\n",
       "\t<li>1369</li>\n",
       "\t<li>1444</li>\n",
       "\t<li>1521</li>\n",
       "\t<li>1600</li>\n",
       "\t<li>1681</li>\n",
       "\t<li>1764</li>\n",
       "\t<li>1849</li>\n",
       "\t<li>1936</li>\n",
       "\t<li>2025</li>\n",
       "\t<li>2116</li>\n",
       "\t<li>2209</li>\n",
       "\t<li>2304</li>\n",
       "\t<li>2401</li>\n",
       "\t<li>2500</li>\n",
       "</ol>\n"
      ],
      "text/latex": [
       "\\begin{enumerate*}\n",
       "\\item 1\n",
       "\\item 4\n",
       "\\item 9\n",
       "\\item 16\n",
       "\\item 25\n",
       "\\item 36\n",
       "\\item 49\n",
       "\\item 64\n",
       "\\item 81\n",
       "\\item 100\n",
       "\\item 121\n",
       "\\item 144\n",
       "\\item 169\n",
       "\\item 196\n",
       "\\item 225\n",
       "\\item 256\n",
       "\\item 289\n",
       "\\item 324\n",
       "\\item 361\n",
       "\\item 400\n",
       "\\item 441\n",
       "\\item 484\n",
       "\\item 529\n",
       "\\item 576\n",
       "\\item 625\n",
       "\\item 676\n",
       "\\item 729\n",
       "\\item 784\n",
       "\\item 841\n",
       "\\item 900\n",
       "\\item 961\n",
       "\\item 1024\n",
       "\\item 1089\n",
       "\\item 1156\n",
       "\\item 1225\n",
       "\\item 1296\n",
       "\\item 1369\n",
       "\\item 1444\n",
       "\\item 1521\n",
       "\\item 1600\n",
       "\\item 1681\n",
       "\\item 1764\n",
       "\\item 1849\n",
       "\\item 1936\n",
       "\\item 2025\n",
       "\\item 2116\n",
       "\\item 2209\n",
       "\\item 2304\n",
       "\\item 2401\n",
       "\\item 2500\n",
       "\\end{enumerate*}\n"
      ],
      "text/markdown": [
       "1. 1\n",
       "2. 4\n",
       "3. 9\n",
       "4. 16\n",
       "5. 25\n",
       "6. 36\n",
       "7. 49\n",
       "8. 64\n",
       "9. 81\n",
       "10. 100\n",
       "11. 121\n",
       "12. 144\n",
       "13. 169\n",
       "14. 196\n",
       "15. 225\n",
       "16. 256\n",
       "17. 289\n",
       "18. 324\n",
       "19. 361\n",
       "20. 400\n",
       "21. 441\n",
       "22. 484\n",
       "23. 529\n",
       "24. 576\n",
       "25. 625\n",
       "26. 676\n",
       "27. 729\n",
       "28. 784\n",
       "29. 841\n",
       "30. 900\n",
       "31. 961\n",
       "32. 1024\n",
       "33. 1089\n",
       "34. 1156\n",
       "35. 1225\n",
       "36. 1296\n",
       "37. 1369\n",
       "38. 1444\n",
       "39. 1521\n",
       "40. 1600\n",
       "41. 1681\n",
       "42. 1764\n",
       "43. 1849\n",
       "44. 1936\n",
       "45. 2025\n",
       "46. 2116\n",
       "47. 2209\n",
       "48. 2304\n",
       "49. 2401\n",
       "50. 2500\n",
       "\n",
       "\n"
      ],
      "text/plain": [
       " [1]    1    4    9   16   25   36   49   64   81  100  121  144  169  196  225\n",
       "[16]  256  289  324  361  400  441  484  529  576  625  676  729  784  841  900\n",
       "[31]  961 1024 1089 1156 1225 1296 1369 1444 1521 1600 1681 1764 1849 1936 2025\n",
       "[46] 2116 2209 2304 2401 2500"
      ]
     },
     "metadata": {},
     "output_type": "display_data"
    }
   ],
   "source": [
    "p1 <- d1^2\n",
    "p1"
   ]
  },
  {
   "cell_type": "markdown",
   "metadata": {},
   "source": [
    "We can plot p1 against d1 using the *plot()* function"
   ]
  },
  {
   "cell_type": "code",
   "execution_count": 42,
   "metadata": {},
   "outputs": [
    {
     "data": {
      "image/png": "[encoded data removed]",
      "text/plain": [
       "plot without title"
      ]
     },
     "metadata": {},
     "output_type": "display_data"
    },
    {
     "data": {
      "image/png": "[encoded data removed]",
      "text/plain": [
       "plot without title"
      ]
     },
     "metadata": {},
     "output_type": "display_data"
    }
   ],
   "source": [
    "plot(d1,p1)\n",
    "\n",
    "plot(d1,p1, pch=19 )  "
   ]
  },
  {
   "cell_type": "markdown",
   "metadata": {},
   "source": [
    "\"pch\" is an argument for the type of character to be used as a plotted point.  \n",
    "The following commands allow you to plot symbols."
   ]
  },
  {
   "cell_type": "code",
   "execution_count": 43,
   "metadata": {},
   "outputs": [
    {
     "data": {
      "image/png": "[encoded data removed]",
      "text/plain": [
       "plot without title"
      ]
     },
     "metadata": {},
     "output_type": "display_data"
    },
    {
     "data": {
      "image/png": "[encoded data removed]",
      "text/plain": [
       "plot without title"
      ]
     },
     "metadata": {},
     "output_type": "display_data"
    }
   ],
   "source": [
    "plot(d1,p1, pch=\".\")\n",
    "plot(d1,p1, pch=\"+\")"
   ]
  },
  {
   "cell_type": "markdown",
   "metadata": {},
   "source": [
    "An important notion in plotting functions is the difference between HIGH LEVEL and LOW LEVEL functions.  \n",
    "Every time you use the *plot()* function you create a new plotting window.  \n",
    "In order to add curves you need to use low level functions such as *lines()* *text()* or *abline()*.  \n",
    "You can use the *help()* function to find out about these plotting functions."
   ]
  },
  {
   "cell_type": "code",
   "execution_count": 44,
   "metadata": {},
   "outputs": [
    {
     "data": {
      "image/png": "[encoded data removed]",
      "text/plain": [
       "plot without title"
      ]
     },
     "metadata": {},
     "output_type": "display_data"
    }
   ],
   "source": [
    "plot(d1,p1, pch=\"+\")\n",
    "lines(sort(d1),sort(p1), col=\"red\")"
   ]
  },
  {
   "cell_type": "markdown",
   "metadata": {},
   "source": [
    "*R* has many interesting functions to generate random numbers.  \n",
    "The following generates a vector of 100 random normal deviates with mean 5 and sd 2."
   ]
  },
  {
   "cell_type": "code",
   "execution_count": 45,
   "metadata": {},
   "outputs": [
    {
     "data": {
      "text/html": [
       "<ol class=list-inline>\n",
       "\t<li>4.99842106862538</li>\n",
       "\t<li>4.36601521843909</li>\n",
       "\t<li>8.01470734329997</li>\n",
       "\t<li>5.25819365536106</li>\n",
       "\t<li>5.56413947564477</li>\n",
       "\t<li>5.64523668078631</li>\n",
       "\t<li>1.87103284185332</li>\n",
       "\t<li>2.06072504674011</li>\n",
       "\t<li>4.57628820373469</li>\n",
       "\t<li>4.4222805498318</li>\n",
       "\t<li>8.65721323601529</li>\n",
       "\t<li>3.60982096141032</li>\n",
       "\t<li>3.79100580338736</li>\n",
       "\t<li>5.33206523862917</li>\n",
       "\t<li>4.15668814469079</li>\n",
       "\t<li>2.20190311918768</li>\n",
       "\t<li>7.5167744283974</li>\n",
       "\t<li>2.87839270213195</li>\n",
       "\t<li>4.69831592156247</li>\n",
       "\t<li>3.2279554289651</li>\n",
       "\t<li>3.0885692597829</li>\n",
       "\t<li>1.88995993391938</li>\n",
       "\t<li>4.46381167175036</li>\n",
       "\t<li>4.34137951742999</li>\n",
       "\t<li>5.34976329620059</li>\n",
       "\t<li>5.07802686308492</li>\n",
       "\t<li>9.23872016693496</li>\n",
       "\t<li>3.59322579414938</li>\n",
       "\t<li>6.1507122242997</li>\n",
       "\t<li>3.0634021533468</li>\n",
       "\t<li>0.764977289278335</li>\n",
       "\t<li>3.06570122985772</li>\n",
       "\t<li>6.54439619479625</li>\n",
       "\t<li>5.51664672101967</li>\n",
       "\t<li>3.83743490731492</li>\n",
       "\t<li>2.99692402429942</li>\n",
       "\t<li>2.76532377296314</li>\n",
       "\t<li>4.28997548105348</li>\n",
       "\t<li>2.74512977941211</li>\n",
       "\t<li>6.07969521331581</li>\n",
       "\t<li>4.46807421360587</li>\n",
       "\t<li>5.67639782083198</li>\n",
       "\t<li>3.61948144362738</li>\n",
       "\t<li>2.82036305991382</li>\n",
       "\t<li>5.10326287215339</li>\n",
       "\t<li>3.97688196754199</li>\n",
       "\t<li>6.73536022187134</li>\n",
       "\t<li>2.14806494601783</li>\n",
       "\t<li>3.99801111840229</li>\n",
       "\t<li>3.27946531042879</li>\n",
       "\t<li>4.97542858049328</li>\n",
       "\t<li>9.72625528958274</li>\n",
       "\t<li>2.85273666622434</li>\n",
       "\t<li>7.64567080331312</li>\n",
       "\t<li>1.87358613921271</li>\n",
       "\t<li>6.19726908342365</li>\n",
       "\t<li>3.66634571552325</li>\n",
       "\t<li>5.05162605447003</li>\n",
       "\t<li>4.49945960423803</li>\n",
       "\t<li>5.00673014907171</li>\n",
       "\t<li>7.60542935994684</li>\n",
       "\t<li>3.33265324451998</li>\n",
       "\t<li>3.61431225984218</li>\n",
       "\t<li>3.97213389750847</li>\n",
       "\t<li>7.64860569324689</li>\n",
       "\t<li>3.52930200540467</li>\n",
       "\t<li>3.40326241350039</li>\n",
       "\t<li>6.73535336220329</li>\n",
       "\t<li>2.34391047148481</li>\n",
       "\t<li>5.93444261442601</li>\n",
       "\t<li>6.42730444186435</li>\n",
       "\t<li>9.4613363752289</li>\n",
       "\t<li>3.43604485024027</li>\n",
       "\t<li>4.85810782155416</li>\n",
       "\t<li>6.61686766180969</li>\n",
       "\t<li>2.76509948374831</li>\n",
       "\t<li>7.05821951716197</li>\n",
       "\t<li>3.17209781981914</li>\n",
       "\t<li>1.18970598006946</li>\n",
       "\t<li>6.48891644033784</li>\n",
       "\t<li>5.30739646017572</li>\n",
       "\t<li>4.71244202298901</li>\n",
       "\t<li>6.05921739617385</li>\n",
       "\t<li>3.81726246190251</li>\n",
       "\t<li>5.44031986339728</li>\n",
       "\t<li>3.45898842594718</li>\n",
       "\t<li>4.32483499510429</li>\n",
       "\t<li>5.18544989386562</li>\n",
       "\t<li>5.55956658883157</li>\n",
       "\t<li>0.610593372434792</li>\n",
       "\t<li>8.62311400505415</li>\n",
       "\t<li>2.15774805731703</li>\n",
       "\t<li>5.33173386971397</li>\n",
       "\t<li>2.54970720793917</li>\n",
       "\t<li>4.77771873894501</li>\n",
       "\t<li>3.72627389121076</li>\n",
       "\t<li>5.39284135800272</li>\n",
       "\t<li>2.43636134658423</li>\n",
       "\t<li>1.72821398628359</li>\n",
       "\t<li>4.02047865687472</li>\n",
       "</ol>\n"
      ],
      "text/latex": [
       "\\begin{enumerate*}\n",
       "\\item 4.99842106862538\n",
       "\\item 4.36601521843909\n",
       "\\item 8.01470734329997\n",
       "\\item 5.25819365536106\n",
       "\\item 5.56413947564477\n",
       "\\item 5.64523668078631\n",
       "\\item 1.87103284185332\n",
       "\\item 2.06072504674011\n",
       "\\item 4.57628820373469\n",
       "\\item 4.4222805498318\n",
       "\\item 8.65721323601529\n",
       "\\item 3.60982096141032\n",
       "\\item 3.79100580338736\n",
       "\\item 5.33206523862917\n",
       "\\item 4.15668814469079\n",
       "\\item 2.20190311918768\n",
       "\\item 7.5167744283974\n",
       "\\item 2.87839270213195\n",
       "\\item 4.69831592156247\n",
       "\\item 3.2279554289651\n",
       "\\item 3.0885692597829\n",
       "\\item 1.88995993391938\n",
       "\\item 4.46381167175036\n",
       "\\item 4.34137951742999\n",
       "\\item 5.34976329620059\n",
       "\\item 5.07802686308492\n",
       "\\item 9.23872016693496\n",
       "\\item 3.59322579414938\n",
       "\\item 6.1507122242997\n",
       "\\item 3.0634021533468\n",
       "\\item 0.764977289278335\n",
       "\\item 3.06570122985772\n",
       "\\item 6.54439619479625\n",
       "\\item 5.51664672101967\n",
       "\\item 3.83743490731492\n",
       "\\item 2.99692402429942\n",
       "\\item 2.76532377296314\n",
       "\\item 4.28997548105348\n",
       "\\item 2.74512977941211\n",
       "\\item 6.07969521331581\n",
       "\\item 4.46807421360587\n",
       "\\item 5.67639782083198\n",
       "\\item 3.61948144362738\n",
       "\\item 2.82036305991382\n",
       "\\item 5.10326287215339\n",
       "\\item 3.97688196754199\n",
       "\\item 6.73536022187134\n",
       "\\item 2.14806494601783\n",
       "\\item 3.99801111840229\n",
       "\\item 3.27946531042879\n",
       "\\item 4.97542858049328\n",
       "\\item 9.72625528958274\n",
       "\\item 2.85273666622434\n",
       "\\item 7.64567080331312\n",
       "\\item 1.87358613921271\n",
       "\\item 6.19726908342365\n",
       "\\item 3.66634571552325\n",
       "\\item 5.05162605447003\n",
       "\\item 4.49945960423803\n",
       "\\item 5.00673014907171\n",
       "\\item 7.60542935994684\n",
       "\\item 3.33265324451998\n",
       "\\item 3.61431225984218\n",
       "\\item 3.97213389750847\n",
       "\\item 7.64860569324689\n",
       "\\item 3.52930200540467\n",
       "\\item 3.40326241350039\n",
       "\\item 6.73535336220329\n",
       "\\item 2.34391047148481\n",
       "\\item 5.93444261442601\n",
       "\\item 6.42730444186435\n",
       "\\item 9.4613363752289\n",
       "\\item 3.43604485024027\n",
       "\\item 4.85810782155416\n",
       "\\item 6.61686766180969\n",
       "\\item 2.76509948374831\n",
       "\\item 7.05821951716197\n",
       "\\item 3.17209781981914\n",
       "\\item 1.18970598006946\n",
       "\\item 6.48891644033784\n",
       "\\item 5.30739646017572\n",
       "\\item 4.71244202298901\n",
       "\\item 6.05921739617385\n",
       "\\item 3.81726246190251\n",
       "\\item 5.44031986339728\n",
       "\\item 3.45898842594718\n",
       "\\item 4.32483499510429\n",
       "\\item 5.18544989386562\n",
       "\\item 5.55956658883157\n",
       "\\item 0.610593372434792\n",
       "\\item 8.62311400505415\n",
       "\\item 2.15774805731703\n",
       "\\item 5.33173386971397\n",
       "\\item 2.54970720793917\n",
       "\\item 4.77771873894501\n",
       "\\item 3.72627389121076\n",
       "\\item 5.39284135800272\n",
       "\\item 2.43636134658423\n",
       "\\item 1.72821398628359\n",
       "\\item 4.02047865687472\n",
       "\\end{enumerate*}\n"
      ],
      "text/markdown": [
       "1. 4.99842106862538\n",
       "2. 4.36601521843909\n",
       "3. 8.01470734329997\n",
       "4. 5.25819365536106\n",
       "5. 5.56413947564477\n",
       "6. 5.64523668078631\n",
       "7. 1.87103284185332\n",
       "8. 2.06072504674011\n",
       "9. 4.57628820373469\n",
       "10. 4.4222805498318\n",
       "11. 8.65721323601529\n",
       "12. 3.60982096141032\n",
       "13. 3.79100580338736\n",
       "14. 5.33206523862917\n",
       "15. 4.15668814469079\n",
       "16. 2.20190311918768\n",
       "17. 7.5167744283974\n",
       "18. 2.87839270213195\n",
       "19. 4.69831592156247\n",
       "20. 3.2279554289651\n",
       "21. 3.0885692597829\n",
       "22. 1.88995993391938\n",
       "23. 4.46381167175036\n",
       "24. 4.34137951742999\n",
       "25. 5.34976329620059\n",
       "26. 5.07802686308492\n",
       "27. 9.23872016693496\n",
       "28. 3.59322579414938\n",
       "29. 6.1507122242997\n",
       "30. 3.0634021533468\n",
       "31. 0.764977289278335\n",
       "32. 3.06570122985772\n",
       "33. 6.54439619479625\n",
       "34. 5.51664672101967\n",
       "35. 3.83743490731492\n",
       "36. 2.99692402429942\n",
       "37. 2.76532377296314\n",
       "38. 4.28997548105348\n",
       "39. 2.74512977941211\n",
       "40. 6.07969521331581\n",
       "41. 4.46807421360587\n",
       "42. 5.67639782083198\n",
       "43. 3.61948144362738\n",
       "44. 2.82036305991382\n",
       "45. 5.10326287215339\n",
       "46. 3.97688196754199\n",
       "47. 6.73536022187134\n",
       "48. 2.14806494601783\n",
       "49. 3.99801111840229\n",
       "50. 3.27946531042879\n",
       "51. 4.97542858049328\n",
       "52. 9.72625528958274\n",
       "53. 2.85273666622434\n",
       "54. 7.64567080331312\n",
       "55. 1.87358613921271\n",
       "56. 6.19726908342365\n",
       "57. 3.66634571552325\n",
       "58. 5.05162605447003\n",
       "59. 4.49945960423803\n",
       "60. 5.00673014907171\n",
       "61. 7.60542935994684\n",
       "62. 3.33265324451998\n",
       "63. 3.61431225984218\n",
       "64. 3.97213389750847\n",
       "65. 7.64860569324689\n",
       "66. 3.52930200540467\n",
       "67. 3.40326241350039\n",
       "68. 6.73535336220329\n",
       "69. 2.34391047148481\n",
       "70. 5.93444261442601\n",
       "71. 6.42730444186435\n",
       "72. 9.4613363752289\n",
       "73. 3.43604485024027\n",
       "74. 4.85810782155416\n",
       "75. 6.61686766180969\n",
       "76. 2.76509948374831\n",
       "77. 7.05821951716197\n",
       "78. 3.17209781981914\n",
       "79. 1.18970598006946\n",
       "80. 6.48891644033784\n",
       "81. 5.30739646017572\n",
       "82. 4.71244202298901\n",
       "83. 6.05921739617385\n",
       "84. 3.81726246190251\n",
       "85. 5.44031986339728\n",
       "86. 3.45898842594718\n",
       "87. 4.32483499510429\n",
       "88. 5.18544989386562\n",
       "89. 5.55956658883157\n",
       "90. 0.610593372434792\n",
       "91. 8.62311400505415\n",
       "92. 2.15774805731703\n",
       "93. 5.33173386971397\n",
       "94. 2.54970720793917\n",
       "95. 4.77771873894501\n",
       "96. 3.72627389121076\n",
       "97. 5.39284135800272\n",
       "98. 2.43636134658423\n",
       "99. 1.72821398628359\n",
       "100. 4.02047865687472\n",
       "\n",
       "\n"
      ],
      "text/plain": [
       "  [1] 4.9984211 4.3660152 8.0147073 5.2581937 5.5641395 5.6452367 1.8710328\n",
       "  [8] 2.0607250 4.5762882 4.4222805 8.6572132 3.6098210 3.7910058 5.3320652\n",
       " [15] 4.1566881 2.2019031 7.5167744 2.8783927 4.6983159 3.2279554 3.0885693\n",
       " [22] 1.8899599 4.4638117 4.3413795 5.3497633 5.0780269 9.2387202 3.5932258\n",
       " [29] 6.1507122 3.0634022 0.7649773 3.0657012 6.5443962 5.5166467 3.8374349\n",
       " [36] 2.9969240 2.7653238 4.2899755 2.7451298 6.0796952 4.4680742 5.6763978\n",
       " [43] 3.6194814 2.8203631 5.1032629 3.9768820 6.7353602 2.1480649 3.9980111\n",
       " [50] 3.2794653 4.9754286 9.7262553 2.8527367 7.6456708 1.8735861 6.1972691\n",
       " [57] 3.6663457 5.0516261 4.4994596 5.0067301 7.6054294 3.3326532 3.6143123\n",
       " [64] 3.9721339 7.6486057 3.5293020 3.4032624 6.7353534 2.3439105 5.9344426\n",
       " [71] 6.4273044 9.4613364 3.4360449 4.8581078 6.6168677 2.7650995 7.0582195\n",
       " [78] 3.1720978 1.1897060 6.4889164 5.3073965 4.7124420 6.0592174 3.8172625\n",
       " [85] 5.4403199 3.4589884 4.3248350 5.1854499 5.5595666 0.6105934 8.6231140\n",
       " [92] 2.1577481 5.3317339 2.5497072 4.7777187 3.7262739 5.3928414 2.4363613\n",
       " [99] 1.7282140 4.0204787"
      ]
     },
     "metadata": {},
     "output_type": "display_data"
    }
   ],
   "source": [
    "v1 <- rnorm(100,5,2)\n",
    "v1"
   ]
  },
  {
   "cell_type": "markdown",
   "metadata": {},
   "source": [
    "Plot *var3* against *var2* and label the points with *label1*"
   ]
  },
  {
   "cell_type": "code",
   "execution_count": 46,
   "metadata": {},
   "outputs": [
    {
     "data": {
      "image/png": "[encoded data removed]",
      "text/plain": [
       "plot without title"
      ]
     },
     "metadata": {},
     "output_type": "display_data"
    }
   ],
   "source": [
    "plot(var2, var3)\n",
    "text(var2, var3, label1, pos=3)"
   ]
  },
  {
   "cell_type": "code",
   "execution_count": 47,
   "metadata": {},
   "outputs": [
    {
     "data": {
      "image/png": "[encoded data removed]",
      "text/plain": [
       "plot without title"
      ]
     },
     "metadata": {},
     "output_type": "display_data"
    }
   ],
   "source": [
    "plot(var2,var3,type=\"n\")  # \"n\" means \"null\" i.e. no plot\n",
    "text(var2,var3,label1)    # writes \"label1\" at coordinates (var1, var2)"
   ]
  },
  {
   "cell_type": "markdown",
   "metadata": {},
   "source": [
    "To write a column of data in a file"
   ]
  },
  {
   "cell_type": "code",
   "execution_count": 48,
   "metadata": {},
   "outputs": [],
   "source": [
    "write(d1, file=\"output1.txt\", ncol=1)"
   ]
  },
  {
   "cell_type": "markdown",
   "metadata": {},
   "source": [
    "To write 3 columns of data from the matrix, we need to remember that the internal ordering is by COLUMNS, which needs to be transposed so that it is "
   ]
  },
  {
   "cell_type": "code",
   "execution_count": 49,
   "metadata": {},
   "outputs": [],
   "source": [
    "write(t(m1),file=\"output2.txt\",ncol=3)"
   ]
  },
  {
   "cell_type": "markdown",
   "metadata": {},
   "source": [
    "To write 2 columns of text and 1 column of numbers"
   ]
  },
  {
   "cell_type": "code",
   "execution_count": 50,
   "metadata": {},
   "outputs": [],
   "source": [
    "write(rbind(label1,sample(label1, 50),as.character(d1)), file=\"output.txt\",ncol=3)\n",
    "write(rbind(label1,sample(label1, 50),d1), file=\"output.txt\",ncol=3)"
   ]
  },
  {
   "cell_type": "markdown",
   "metadata": {},
   "source": [
    "*R* is extremely flexible and allows you to write functions.  \n",
    "The simplest case is obtained with one variable"
   ]
  },
  {
   "cell_type": "code",
   "execution_count": 51,
   "metadata": {},
   "outputs": [],
   "source": [
    "het <- function(x) {2*x*(1-x)}"
   ]
  },
  {
   "cell_type": "markdown",
   "metadata": {},
   "source": [
    "Curly brackets have to be used to type the code for the function.  \n",
    "We can test the function :"
   ]
  },
  {
   "cell_type": "code",
   "execution_count": 52,
   "metadata": {},
   "outputs": [
    {
     "data": {
      "text/html": [
       "0.5"
      ],
      "text/latex": [
       "0.5"
      ],
      "text/markdown": [
       "0.5"
      ],
      "text/plain": [
       "[1] 0.5"
      ]
     },
     "metadata": {},
     "output_type": "display_data"
    },
    {
     "data": {
      "text/html": [
       "0.18"
      ],
      "text/latex": [
       "0.18"
      ],
      "text/markdown": [
       "0.18"
      ],
      "text/plain": [
       "[1] 0.18"
      ]
     },
     "metadata": {},
     "output_type": "display_data"
    }
   ],
   "source": [
    "het(0.5) ; het(0.1)"
   ]
  },
  {
   "cell_type": "markdown",
   "metadata": {},
   "source": [
    "The following is for you to experiment using the \"help()\" function...\n",
    "\n",
    "### Hardy Weinberg equilibrium and the Wahlund effect.\n"
   ]
  },
  {
   "cell_type": "code",
   "execution_count": 53,
   "metadata": {},
   "outputs": [
    {
     "data": {
      "image/png": "[encoded data removed]",
      "text/plain": [
       "plot without title"
      ]
     },
     "metadata": {},
     "output_type": "display_data"
    }
   ],
   "source": [
    "plot(het, 0,1)"
   ]
  },
  {
   "cell_type": "markdown",
   "metadata": {},
   "source": [
    "A nicer plot"
   ]
  },
  {
   "cell_type": "code",
   "execution_count": 54,
   "metadata": {},
   "outputs": [
    {
     "data": {
      "image/png": "[encoded data removed]",
      "text/plain": [
       "plot without title"
      ]
     },
     "metadata": {},
     "output_type": "display_data"
    }
   ],
   "source": [
    "plot(het, 0, 1, ylim=c(0,0.75), xlab=\"\", ylab=\"\", lwd=2)"
   ]
  },
  {
   "cell_type": "code",
   "execution_count": 55,
   "metadata": {},
   "outputs": [
    {
     "data": {
      "image/png": "[encoded data removed]",
      "text/plain": [
       "Plot with title “Hardy-Weinberg equilibrium and Wahlund effect”"
      ]
     },
     "metadata": {},
     "output_type": "display_data"
    }
   ],
   "source": [
    "#mtext(expression(italic(heterozygotes)), side=2, line=2.5)\n",
    "#mtext(expression(italic(p[1])), side=1, line=2.5)\n",
    "\n",
    "plot(het, 0, 1, ylim=c(0,0.75), xlab=\"\", ylab=\"\", lwd=2)\n",
    "segments(0.2, het(0.2), 0.6, het(0.6), lwd=2)\n",
    "segments(0.2, 0, 0.2, het(0.2), lwd=2, lty=2)\n",
    "segments(0.6, 0, 0.6, het(0.6), lwd=2, lty=2)\n",
    "segments(0.35, 0, 0.35, het(0.35), lwd=2, lty=2)\n",
    "text(0.6, het(0.6)*1.1, \"P1\", cex=2)\n",
    "text(0.18, het(0.2)*1.2, \"P2\", cex=2)\n",
    "text(0.41, het(0.35)*0.75, \"P\", cex=2)\n",
    "#text(0.6, het(0.6)*1.03, labels=(expression(P[1])), cex=2)\n",
    "#text(0.18, het(0.2)*1.1, labels=(expression(P[2])), cex=2)\n",
    "#text(0.41, het(0.35)*0.75, labels=(expression(P)), cex=2)\n",
    "title (main=\"Hardy-Weinberg equilibrium and Wahlund effect\")\n",
    "text(0.6, 0.3, \"Heterozygote deficit\", cex=1.1)\n",
    "text(0.85, 0.47, \"Heterozygote excess\", cex=1.1)\n",
    "points(0.6, het(0.6), lwd=2)\n",
    "points(0.2, het(0.2), lwd=2)\n",
    "points(0.35, het(0.35), lwd=2)\n",
    "points(0.35, het(0.2) + (het(0.6) - het(0.2))*0.15/0.4, lwd=4)\n",
    "\n"
   ]
  },
  {
   "cell_type": "markdown",
   "metadata": {},
   "source": [
    "Function to print the figure in a postscript file\n"
   ]
  },
  {
   "cell_type": "code",
   "execution_count": 56,
   "metadata": {
    "scrolled": true
   },
   "outputs": [
    {
     "data": {
      "text/html": [
       "<strong>png:</strong> 2"
      ],
      "text/latex": [
       "\\textbf{png:} 2"
      ],
      "text/markdown": [
       "**png:** 2"
      ],
      "text/plain": [
       "png \n",
       "  2 "
      ]
     },
     "metadata": {},
     "output_type": "display_data"
    }
   ],
   "source": [
    "dev.print(height=7, width=7, horizontal=F, file=\"Wahlund.ps\")"
   ]
  },
  {
   "cell_type": "code",
   "execution_count": null,
   "metadata": {},
   "outputs": [],
   "source": []
  }
 ],
 "metadata": {
  "kernelspec": {
   "display_name": "R",
   "language": "R",
   "name": "ir"
  },
  "language_info": {
   "codemirror_mode": "r",
   "file_extension": ".r",
   "mimetype": "text/x-r-source",
   "name": "R",
   "pygments_lexer": "r",
   "version": "3.4.4"
  }
 },
 "nbformat": 4,
 "nbformat_minor": 2
}
